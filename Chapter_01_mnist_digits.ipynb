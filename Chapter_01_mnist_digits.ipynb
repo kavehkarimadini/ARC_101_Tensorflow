{
  "cells": [
    {
      "cell_type": "markdown",
      "metadata": {
        "id": "view-in-github",
        "colab_type": "text"
      },
      "source": [
        "<a href=\"https://colab.research.google.com/github/kavehkarimadini/ARC_101_Tensorflow_Zero2Hero/blob/main/Chapter_01_mnist_digits.ipynb\" target=\"_parent\"><img src=\"https://colab.research.google.com/assets/colab-badge.svg\" alt=\"Open In Colab\"/></a>"
      ]
    },
    {
      "cell_type": "markdown",
      "id": "8897150e-f5cf-48e9-b3a0-15fd87b6d8f7",
      "metadata": {
        "id": "8897150e-f5cf-48e9-b3a0-15fd87b6d8f7"
      },
      "source": [
        "-  Use `tf.keras` instead of Keras for better integration with\n",
        "other TensorFlow APIs, such as eager execution, `tf.data`, and many more benefits"
      ]
    },
    {
      "cell_type": "markdown",
      "id": "bd406e42-44fe-43a2-a93a-ccc304b3913e",
      "metadata": {
        "id": "bd406e42-44fe-43a2-a93a-ccc304b3913e"
      },
      "source": [
        "#### There are three ways of creating a model in tf.keras: `Sequential API`, `Functional API`, and `Model subclassing`."
      ]
    },
    {
      "cell_type": "code",
      "execution_count": 1,
      "id": "2a2b9746-b0a9-4aed-bf5d-5d626635435a",
      "metadata": {
        "id": "2a2b9746-b0a9-4aed-bf5d-5d626635435a"
      },
      "outputs": [],
      "source": [
        "import tensorflow as tf\n",
        "from tensorflow import keras"
      ]
    },
    {
      "cell_type": "markdown",
      "id": "39d2e1d8-572a-4bb5-8710-b5742a5b2237",
      "metadata": {
        "id": "39d2e1d8-572a-4bb5-8710-b5742a5b2237"
      },
      "source": [
        "- A Sequential() model is a linear pipeline (a stack) of neural network layers."
      ]
    },
    {
      "cell_type": "markdown",
      "id": "502d9997-ef96-4799-bc26-39f718b214d6",
      "metadata": {
        "id": "502d9997-ef96-4799-bc26-39f718b214d6"
      },
      "source": [
        "> ### Each neuron can be initialized with specific weights via the `kernel_initializer` parameter.\n",
        "> > There are a few choices, the most common of which are listed as follows:\n",
        "> > - random_uniform: Weights are initialized to uniformly random small values in the range -0.05 to 0.05.\n",
        "> > - random_normal: Weights are initialized according to a Gaussian distribution, with zero mean and a small standard deviation of 0.05. For those of you who are not familiar with Gaussian distribution, think about a symmetric \"bell curve\" shape.\n",
        "> > - zero: All weights are initialized to zero."
      ]
    },
    {
      "cell_type": "code",
      "execution_count": null,
      "id": "ce0235c4-69bb-492f-94f0-05440d822d5e",
      "metadata": {
        "id": "ce0235c4-69bb-492f-94f0-05440d822d5e"
      },
      "outputs": [],
      "source": [
        "NB_CLASSES = 10\n",
        "RESHAPED = 784\n",
        "# This code fragment defines a single layer with 10 artificial neurons that expects 784 input\n",
        "# variables (also known as features).\n",
        "# Note that the net is \"dense,\" meaning that each\n",
        "# neuron in a layer is connected to all neurons located in the previous layer, and to all the neurons in the following layer\n",
        "model = tf.keras.models.Sequential()\n",
        "model.add(keras.layers.Dense(NB_CLASSES,\n",
        " input_shape=(RESHAPED,), kernel_initializer='zeros',\n",
        " name='dense_layer', activation='softmax'))"
      ]
    },
    {
      "cell_type": "markdown",
      "id": "1f3dd027-14ba-4a71-97e9-f507ecc4ae22",
      "metadata": {
        "id": "1f3dd027-14ba-4a71-97e9-f507ecc4ae22"
      },
      "source": [
        "- ReLU (REctified Linear Unit)  became very popular because it helps address some optimization problems observed\n",
        "with sigmoids. We will discuss these problems in more detail when we talk about vanishing gradient, Autoencoders. A ReLU is simply defined as f(x) =\n",
        "max(0, x)"
      ]
    },
    {
      "cell_type": "markdown",
      "id": "e97fd3c2-7bf1-4188-8e25-f4d5e9ea3fa3",
      "metadata": {
        "id": "e97fd3c2-7bf1-4188-8e25-f4d5e9ea3fa3"
      },
      "source": [
        "-  machine learning models are a way to compute a function that maps\n",
        "some inputs to their corresponding outputs."
      ]
    },
    {
      "cell_type": "code",
      "execution_count": 2,
      "id": "34963bb9-5911-4c2a-807f-7f2abb96c30b",
      "metadata": {
        "id": "34963bb9-5911-4c2a-807f-7f2abb96c30b"
      },
      "outputs": [],
      "source": [
        "# Network and training parameters.\n",
        "EPOCHS = 200\n",
        "BATCH_SIZE = 128\n",
        "VERBOSE = 1\n",
        "NB_CLASSES = 10 # number of outputs = number of digits\n",
        "N_HIDDEN = 128\n",
        "DROPOUT = 0.3\n",
        "VALIDATION_SPLIT = 0.2 # how much TRAIN is reserved for VALIDATION"
      ]
    },
    {
      "cell_type": "code",
      "execution_count": 3,
      "id": "51427fb6-5c2a-45b7-8b3b-6b718b22265b",
      "metadata": {
        "colab": {
          "base_uri": "https://localhost:8080/"
        },
        "id": "51427fb6-5c2a-45b7-8b3b-6b718b22265b",
        "outputId": "44244456-4c85-44e4-983b-ee7351659ca2"
      },
      "outputs": [
        {
          "output_type": "stream",
          "name": "stdout",
          "text": [
            "Downloading data from https://storage.googleapis.com/tensorflow/tf-keras-datasets/mnist.npz\n",
            "\u001b[1m11490434/11490434\u001b[0m \u001b[32m━━━━━━━━━━━━━━━━━━━━\u001b[0m\u001b[37m\u001b[0m \u001b[1m1s\u001b[0m 0us/step\n"
          ]
        }
      ],
      "source": [
        "# Loading MNIST dataset.\n",
        "# verify\n",
        "# You can verify that the split between train and test is 60,000, and 10,000 respectively.\n",
        "# Labels have one-hot representation.is automatically applied\n",
        "mnist = keras.datasets.mnist\n",
        "(X_train, Y_train), (X_test, Y_test) = mnist.load_data()"
      ]
    },
    {
      "cell_type": "code",
      "execution_count": 4,
      "id": "8cf31517-59c9-4165-b295-59c41ae5257f",
      "metadata": {
        "id": "8cf31517-59c9-4165-b295-59c41ae5257f"
      },
      "outputs": [],
      "source": [
        "# X_train is 60000 rows of 28x28 values; we --> reshape it to\n",
        "# 60000 x 784.\n",
        "RESHAPED = 784\n",
        "#\n",
        "X_train = X_train.reshape(60000, RESHAPED)\n",
        "X_test = X_test.reshape(10000, RESHAPED)\n",
        "X_train = X_train.astype('float32')\n",
        "X_test = X_test.astype('float32')"
      ]
    },
    {
      "cell_type": "code",
      "execution_count": 5,
      "id": "0718c629-5101-4d9b-9f15-17e61bfa838e",
      "metadata": {
        "colab": {
          "base_uri": "https://localhost:8080/"
        },
        "id": "0718c629-5101-4d9b-9f15-17e61bfa838e",
        "outputId": "7e878943-1c88-4bbe-8865-31da6ee486ad"
      },
      "outputs": [
        {
          "output_type": "stream",
          "name": "stdout",
          "text": [
            "60000 train samples\n",
            "10000 test samples\n"
          ]
        }
      ],
      "source": [
        "# each pixel are normalized in the range [0,1]  (which means that the intensity of each pixel is divided by 255, the maximum intensity value).\n",
        "# Normalize inputs to be within in [0, 1].\n",
        "X_train /= 255\n",
        "X_test /= 255\n",
        "print(X_train.shape[0], 'train samples')\n",
        "print(X_test.shape[0], 'test samples')"
      ]
    },
    {
      "cell_type": "code",
      "execution_count": 6,
      "id": "e30d0048-bc37-4669-a050-f379547a890d",
      "metadata": {
        "id": "e30d0048-bc37-4669-a050-f379547a890d"
      },
      "outputs": [],
      "source": [
        "# One-hot representation of the labels.\n",
        "Y_train = tf.keras.utils.to_categorical(Y_train, NB_CLASSES)\n",
        "Y_test = tf.keras.utils.to_categorical(Y_test, NB_CLASSES)"
      ]
    },
    {
      "cell_type": "markdown",
      "id": "dd5b5762-95c0-4595-ae88-f40daeb414ee",
      "metadata": {
        "id": "dd5b5762-95c0-4595-ae88-f40daeb414ee"
      },
      "source": [
        "#### a softmax \"squashes\" a K-dimensional vector of arbitrary real values into a K-dimensional vector of real values in the range (0, 1), so that they all add up to 1."
      ]
    },
    {
      "cell_type": "markdown",
      "id": "76fdb0b9-bd25-407b-b7bd-acf260a6cbf6",
      "metadata": {
        "id": "76fdb0b9-bd25-407b-b7bd-acf260a6cbf6"
      },
      "source": [
        "> #### Randomly dropping values, known as dropout, is a simple yet effective technique in machine learning to improve performance by forcing networks to learn redundant patterns for better generalization."
      ]
    },
    {
      "cell_type": "code",
      "execution_count": 7,
      "id": "c782eb46-df08-4879-bfe8-f584b65a5b0f",
      "metadata": {
        "colab": {
          "base_uri": "https://localhost:8080/"
        },
        "id": "c782eb46-df08-4879-bfe8-f584b65a5b0f",
        "outputId": "2590b283-db1d-4b8a-8a8e-9fc814c30f27"
      },
      "outputs": [
        {
          "output_type": "stream",
          "name": "stderr",
          "text": [
            "/usr/local/lib/python3.10/dist-packages/keras/src/layers/core/dense.py:87: UserWarning: Do not pass an `input_shape`/`input_dim` argument to a layer. When using Sequential models, prefer using an `Input(shape)` object as the first layer in the model instead.\n",
            "  super().__init__(activity_regularizer=activity_regularizer, **kwargs)\n"
          ]
        }
      ],
      "source": [
        "# Building the model.\n",
        "model = tf.keras.models.Sequential()\n",
        "model.add(keras.layers.Dense(N_HIDDEN,input_shape=(RESHAPED,),name='dense_layer', activation='relu'))\n",
        "model.add(keras.layers.Dropout(DROPOUT))\n",
        "model.add(keras.layers.Dense(N_HIDDEN, name='dense_layer_2', activation='relu'))\n",
        "model.add(keras.layers.Dropout(DROPOUT))\n",
        "model.add(keras.layers.Dense(NB_CLASSES,name='dense_layer_3', activation='softmax'))"
      ]
    },
    {
      "cell_type": "markdown",
      "id": "ce9b5696-c990-4d5d-a41f-e9bbbcd1d3a4",
      "metadata": {
        "id": "ce9b5696-c990-4d5d-a41f-e9bbbcd1d3a4"
      },
      "source": [
        "## There are a few choices to be made during compilation.\n",
        "> 1. Firstly, we need to select an optimizer, which is the specific algorithm used to update weights while we train our model.\n",
        "> 2. Second, we need to select an objective function, which is used by the optimizer to navigate the space of weights (frequently, objective functions are called either loss functions or cost functions and the process of optimization is defined as a process of loss minimization).\n",
        "> 3. Third, we need to evaluate the trained model"
      ]
    },
    {
      "cell_type": "code",
      "execution_count": 8,
      "id": "565fa963-2006-4d87-97ad-eb61b8be3249",
      "metadata": {
        "colab": {
          "base_uri": "https://localhost:8080/",
          "height": 324
        },
        "id": "565fa963-2006-4d87-97ad-eb61b8be3249",
        "outputId": "5270f83a-8d88-4b0a-adfd-f396a19486cb"
      },
      "outputs": [
        {
          "output_type": "display_data",
          "data": {
            "text/plain": [
              "\u001b[1mModel: \"sequential\"\u001b[0m\n"
            ],
            "text/html": [
              "<pre style=\"white-space:pre;overflow-x:auto;line-height:normal;font-family:Menlo,'DejaVu Sans Mono',consolas,'Courier New',monospace\"><span style=\"font-weight: bold\">Model: \"sequential\"</span>\n",
              "</pre>\n"
            ]
          },
          "metadata": {}
        },
        {
          "output_type": "display_data",
          "data": {
            "text/plain": [
              "┏━━━━━━━━━━━━━━━━━━━━━━━━━━━━━━━━━━━━━━┳━━━━━━━━━━━━━━━━━━━━━━━━━━━━━┳━━━━━━━━━━━━━━━━━┓\n",
              "┃\u001b[1m \u001b[0m\u001b[1mLayer (type)                        \u001b[0m\u001b[1m \u001b[0m┃\u001b[1m \u001b[0m\u001b[1mOutput Shape               \u001b[0m\u001b[1m \u001b[0m┃\u001b[1m \u001b[0m\u001b[1m        Param #\u001b[0m\u001b[1m \u001b[0m┃\n",
              "┡━━━━━━━━━━━━━━━━━━━━━━━━━━━━━━━━━━━━━━╇━━━━━━━━━━━━━━━━━━━━━━━━━━━━━╇━━━━━━━━━━━━━━━━━┩\n",
              "│ dense_layer (\u001b[38;5;33mDense\u001b[0m)                  │ (\u001b[38;5;45mNone\u001b[0m, \u001b[38;5;34m128\u001b[0m)                 │         \u001b[38;5;34m100,480\u001b[0m │\n",
              "├──────────────────────────────────────┼─────────────────────────────┼─────────────────┤\n",
              "│ dropout (\u001b[38;5;33mDropout\u001b[0m)                    │ (\u001b[38;5;45mNone\u001b[0m, \u001b[38;5;34m128\u001b[0m)                 │               \u001b[38;5;34m0\u001b[0m │\n",
              "├──────────────────────────────────────┼─────────────────────────────┼─────────────────┤\n",
              "│ dense_layer_2 (\u001b[38;5;33mDense\u001b[0m)                │ (\u001b[38;5;45mNone\u001b[0m, \u001b[38;5;34m128\u001b[0m)                 │          \u001b[38;5;34m16,512\u001b[0m │\n",
              "├──────────────────────────────────────┼─────────────────────────────┼─────────────────┤\n",
              "│ dropout_1 (\u001b[38;5;33mDropout\u001b[0m)                  │ (\u001b[38;5;45mNone\u001b[0m, \u001b[38;5;34m128\u001b[0m)                 │               \u001b[38;5;34m0\u001b[0m │\n",
              "├──────────────────────────────────────┼─────────────────────────────┼─────────────────┤\n",
              "│ dense_layer_3 (\u001b[38;5;33mDense\u001b[0m)                │ (\u001b[38;5;45mNone\u001b[0m, \u001b[38;5;34m10\u001b[0m)                  │           \u001b[38;5;34m1,290\u001b[0m │\n",
              "└──────────────────────────────────────┴─────────────────────────────┴─────────────────┘\n"
            ],
            "text/html": [
              "<pre style=\"white-space:pre;overflow-x:auto;line-height:normal;font-family:Menlo,'DejaVu Sans Mono',consolas,'Courier New',monospace\">┏━━━━━━━━━━━━━━━━━━━━━━━━━━━━━━━━━━━━━━┳━━━━━━━━━━━━━━━━━━━━━━━━━━━━━┳━━━━━━━━━━━━━━━━━┓\n",
              "┃<span style=\"font-weight: bold\"> Layer (type)                         </span>┃<span style=\"font-weight: bold\"> Output Shape                </span>┃<span style=\"font-weight: bold\">         Param # </span>┃\n",
              "┡━━━━━━━━━━━━━━━━━━━━━━━━━━━━━━━━━━━━━━╇━━━━━━━━━━━━━━━━━━━━━━━━━━━━━╇━━━━━━━━━━━━━━━━━┩\n",
              "│ dense_layer (<span style=\"color: #0087ff; text-decoration-color: #0087ff\">Dense</span>)                  │ (<span style=\"color: #00d7ff; text-decoration-color: #00d7ff\">None</span>, <span style=\"color: #00af00; text-decoration-color: #00af00\">128</span>)                 │         <span style=\"color: #00af00; text-decoration-color: #00af00\">100,480</span> │\n",
              "├──────────────────────────────────────┼─────────────────────────────┼─────────────────┤\n",
              "│ dropout (<span style=\"color: #0087ff; text-decoration-color: #0087ff\">Dropout</span>)                    │ (<span style=\"color: #00d7ff; text-decoration-color: #00d7ff\">None</span>, <span style=\"color: #00af00; text-decoration-color: #00af00\">128</span>)                 │               <span style=\"color: #00af00; text-decoration-color: #00af00\">0</span> │\n",
              "├──────────────────────────────────────┼─────────────────────────────┼─────────────────┤\n",
              "│ dense_layer_2 (<span style=\"color: #0087ff; text-decoration-color: #0087ff\">Dense</span>)                │ (<span style=\"color: #00d7ff; text-decoration-color: #00d7ff\">None</span>, <span style=\"color: #00af00; text-decoration-color: #00af00\">128</span>)                 │          <span style=\"color: #00af00; text-decoration-color: #00af00\">16,512</span> │\n",
              "├──────────────────────────────────────┼─────────────────────────────┼─────────────────┤\n",
              "│ dropout_1 (<span style=\"color: #0087ff; text-decoration-color: #0087ff\">Dropout</span>)                  │ (<span style=\"color: #00d7ff; text-decoration-color: #00d7ff\">None</span>, <span style=\"color: #00af00; text-decoration-color: #00af00\">128</span>)                 │               <span style=\"color: #00af00; text-decoration-color: #00af00\">0</span> │\n",
              "├──────────────────────────────────────┼─────────────────────────────┼─────────────────┤\n",
              "│ dense_layer_3 (<span style=\"color: #0087ff; text-decoration-color: #0087ff\">Dense</span>)                │ (<span style=\"color: #00d7ff; text-decoration-color: #00d7ff\">None</span>, <span style=\"color: #00af00; text-decoration-color: #00af00\">10</span>)                  │           <span style=\"color: #00af00; text-decoration-color: #00af00\">1,290</span> │\n",
              "└──────────────────────────────────────┴─────────────────────────────┴─────────────────┘\n",
              "</pre>\n"
            ]
          },
          "metadata": {}
        },
        {
          "output_type": "display_data",
          "data": {
            "text/plain": [
              "\u001b[1m Total params: \u001b[0m\u001b[38;5;34m118,282\u001b[0m (462.04 KB)\n"
            ],
            "text/html": [
              "<pre style=\"white-space:pre;overflow-x:auto;line-height:normal;font-family:Menlo,'DejaVu Sans Mono',consolas,'Courier New',monospace\"><span style=\"font-weight: bold\"> Total params: </span><span style=\"color: #00af00; text-decoration-color: #00af00\">118,282</span> (462.04 KB)\n",
              "</pre>\n"
            ]
          },
          "metadata": {}
        },
        {
          "output_type": "display_data",
          "data": {
            "text/plain": [
              "\u001b[1m Trainable params: \u001b[0m\u001b[38;5;34m118,282\u001b[0m (462.04 KB)\n"
            ],
            "text/html": [
              "<pre style=\"white-space:pre;overflow-x:auto;line-height:normal;font-family:Menlo,'DejaVu Sans Mono',consolas,'Courier New',monospace\"><span style=\"font-weight: bold\"> Trainable params: </span><span style=\"color: #00af00; text-decoration-color: #00af00\">118,282</span> (462.04 KB)\n",
              "</pre>\n"
            ]
          },
          "metadata": {}
        },
        {
          "output_type": "display_data",
          "data": {
            "text/plain": [
              "\u001b[1m Non-trainable params: \u001b[0m\u001b[38;5;34m0\u001b[0m (0.00 B)\n"
            ],
            "text/html": [
              "<pre style=\"white-space:pre;overflow-x:auto;line-height:normal;font-family:Menlo,'DejaVu Sans Mono',consolas,'Courier New',monospace\"><span style=\"font-weight: bold\"> Non-trainable params: </span><span style=\"color: #00af00; text-decoration-color: #00af00\">0</span> (0.00 B)\n",
              "</pre>\n"
            ]
          },
          "metadata": {}
        }
      ],
      "source": [
        "# Summary of the model.\n",
        "model.summary()"
      ]
    },
    {
      "cell_type": "markdown",
      "id": "4b092d5e-628c-4cb0-a345-985792219fd3",
      "metadata": {
        "id": "4b092d5e-628c-4cb0-a345-985792219fd3"
      },
      "source": [
        "> #### `Mean Squared Error (MSE)` measures the squared difference between predictions and true values. It averages errors in each prediction by squaring the difference. This accounts for distance from true value and treats errors equally.\n",
        "> #### `binary_crossentropy`, which defines the binary logarithmic loss. Suppose that our model predicts p while the target is c, then the binary cross-entropy is defined as 𝐿(𝑝, 𝑐) = −𝑐 ln(𝑝) − (1 − 𝑐) ln(1 − 𝑝). Note that this objective function is suitable for binary label prediction\n",
        "> #### `categorical_crossentropy`, which defines the multiclass logarithmic loss. Categorical cross-entropy compares the distribution of the predictions with the true distribution, with the probability of the true class set to 1 and 0 for the other classes."
      ]
    },
    {
      "cell_type": "markdown",
      "id": "73b6a491-0a3a-4449-996e-ec881acec184",
      "metadata": {
        "id": "73b6a491-0a3a-4449-996e-ec881acec184"
      },
      "source": [
        "## Some common choices for metrics are:\n",
        "> - `Accuracy`, which defines the proportion of correct predictions with respect to the targets\n",
        "> - `Precision`, which defines how many selected items are relevant for a multilabel classification\n",
        "> - `Recall`, which defines how many selected items are relevant for a multi-label\n",
        "classification"
      ]
    },
    {
      "cell_type": "code",
      "execution_count": 9,
      "id": "1263ed62-03d9-4ced-ae17-ea18fd8ecf4b",
      "metadata": {
        "id": "1263ed62-03d9-4ced-ae17-ea18fd8ecf4b"
      },
      "outputs": [],
      "source": [
        "# Compiling the model.\n",
        "model.compile(optimizer='SGD',\n",
        " loss='categorical_crossentropy',\n",
        " metrics=['accuracy'])"
      ]
    },
    {
      "cell_type": "code",
      "execution_count": 10,
      "id": "530ee8c6-8c21-496d-9fc9-0a4f413b670b",
      "metadata": {
        "colab": {
          "base_uri": "https://localhost:8080/"
        },
        "id": "530ee8c6-8c21-496d-9fc9-0a4f413b670b",
        "outputId": "7e2a46ac-ffd7-4071-fd73-0c000ac2ed83"
      },
      "outputs": [
        {
          "output_type": "stream",
          "name": "stdout",
          "text": [
            "Epoch 1/200\n",
            "\u001b[1m375/375\u001b[0m \u001b[32m━━━━━━━━━━━━━━━━━━━━\u001b[0m\u001b[37m\u001b[0m \u001b[1m3s\u001b[0m 6ms/step - accuracy: 0.3130 - loss: 2.0137 - val_accuracy: 0.8071 - val_loss: 0.9136\n",
            "Epoch 2/200\n",
            "\u001b[1m375/375\u001b[0m \u001b[32m━━━━━━━━━━━━━━━━━━━━\u001b[0m\u001b[37m\u001b[0m \u001b[1m2s\u001b[0m 5ms/step - accuracy: 0.6786 - loss: 1.0346 - val_accuracy: 0.8631 - val_loss: 0.5540\n",
            "Epoch 3/200\n",
            "\u001b[1m375/375\u001b[0m \u001b[32m━━━━━━━━━━━━━━━━━━━━\u001b[0m\u001b[37m\u001b[0m \u001b[1m2s\u001b[0m 5ms/step - accuracy: 0.7667 - loss: 0.7504 - val_accuracy: 0.8864 - val_loss: 0.4391\n",
            "Epoch 4/200\n",
            "\u001b[1m375/375\u001b[0m \u001b[32m━━━━━━━━━━━━━━━━━━━━\u001b[0m\u001b[37m\u001b[0m \u001b[1m3s\u001b[0m 5ms/step - accuracy: 0.8096 - loss: 0.6269 - val_accuracy: 0.8967 - val_loss: 0.3808\n",
            "Epoch 5/200\n",
            "\u001b[1m375/375\u001b[0m \u001b[32m━━━━━━━━━━━━━━━━━━━━\u001b[0m\u001b[37m\u001b[0m \u001b[1m2s\u001b[0m 6ms/step - accuracy: 0.8297 - loss: 0.5601 - val_accuracy: 0.9047 - val_loss: 0.3455\n",
            "Epoch 6/200\n",
            "\u001b[1m375/375\u001b[0m \u001b[32m━━━━━━━━━━━━━━━━━━━━\u001b[0m\u001b[37m\u001b[0m \u001b[1m3s\u001b[0m 7ms/step - accuracy: 0.8473 - loss: 0.5133 - val_accuracy: 0.9098 - val_loss: 0.3211\n",
            "Epoch 7/200\n",
            "\u001b[1m375/375\u001b[0m \u001b[32m━━━━━━━━━━━━━━━━━━━━\u001b[0m\u001b[37m\u001b[0m \u001b[1m2s\u001b[0m 4ms/step - accuracy: 0.8577 - loss: 0.4784 - val_accuracy: 0.9138 - val_loss: 0.3023\n",
            "Epoch 8/200\n",
            "\u001b[1m375/375\u001b[0m \u001b[32m━━━━━━━━━━━━━━━━━━━━\u001b[0m\u001b[37m\u001b[0m \u001b[1m2s\u001b[0m 5ms/step - accuracy: 0.8683 - loss: 0.4453 - val_accuracy: 0.9180 - val_loss: 0.2856\n",
            "Epoch 9/200\n",
            "\u001b[1m375/375\u001b[0m \u001b[32m━━━━━━━━━━━━━━━━━━━━\u001b[0m\u001b[37m\u001b[0m \u001b[1m3s\u001b[0m 5ms/step - accuracy: 0.8731 - loss: 0.4246 - val_accuracy: 0.9222 - val_loss: 0.2726\n",
            "Epoch 10/200\n",
            "\u001b[1m375/375\u001b[0m \u001b[32m━━━━━━━━━━━━━━━━━━━━\u001b[0m\u001b[37m\u001b[0m \u001b[1m2s\u001b[0m 5ms/step - accuracy: 0.8784 - loss: 0.4045 - val_accuracy: 0.9247 - val_loss: 0.2607\n",
            "Epoch 11/200\n",
            "\u001b[1m375/375\u001b[0m \u001b[32m━━━━━━━━━━━━━━━━━━━━\u001b[0m\u001b[37m\u001b[0m \u001b[1m2s\u001b[0m 6ms/step - accuracy: 0.8857 - loss: 0.3876 - val_accuracy: 0.9272 - val_loss: 0.2517\n",
            "Epoch 12/200\n",
            "\u001b[1m375/375\u001b[0m \u001b[32m━━━━━━━━━━━━━━━━━━━━\u001b[0m\u001b[37m\u001b[0m \u001b[1m3s\u001b[0m 7ms/step - accuracy: 0.8900 - loss: 0.3739 - val_accuracy: 0.9298 - val_loss: 0.2415\n",
            "Epoch 13/200\n",
            "\u001b[1m375/375\u001b[0m \u001b[32m━━━━━━━━━━━━━━━━━━━━\u001b[0m\u001b[37m\u001b[0m \u001b[1m4s\u001b[0m 5ms/step - accuracy: 0.8936 - loss: 0.3618 - val_accuracy: 0.9302 - val_loss: 0.2334\n",
            "Epoch 14/200\n",
            "\u001b[1m375/375\u001b[0m \u001b[32m━━━━━━━━━━━━━━━━━━━━\u001b[0m\u001b[37m\u001b[0m \u001b[1m2s\u001b[0m 5ms/step - accuracy: 0.8965 - loss: 0.3494 - val_accuracy: 0.9321 - val_loss: 0.2268\n",
            "Epoch 15/200\n",
            "\u001b[1m375/375\u001b[0m \u001b[32m━━━━━━━━━━━━━━━━━━━━\u001b[0m\u001b[37m\u001b[0m \u001b[1m2s\u001b[0m 5ms/step - accuracy: 0.9004 - loss: 0.3334 - val_accuracy: 0.9344 - val_loss: 0.2201\n",
            "Epoch 16/200\n",
            "\u001b[1m375/375\u001b[0m \u001b[32m━━━━━━━━━━━━━━━━━━━━\u001b[0m\u001b[37m\u001b[0m \u001b[1m2s\u001b[0m 5ms/step - accuracy: 0.9035 - loss: 0.3257 - val_accuracy: 0.9366 - val_loss: 0.2136\n",
            "Epoch 17/200\n",
            "\u001b[1m375/375\u001b[0m \u001b[32m━━━━━━━━━━━━━━━━━━━━\u001b[0m\u001b[37m\u001b[0m \u001b[1m3s\u001b[0m 8ms/step - accuracy: 0.9071 - loss: 0.3135 - val_accuracy: 0.9385 - val_loss: 0.2076\n",
            "Epoch 18/200\n",
            "\u001b[1m375/375\u001b[0m \u001b[32m━━━━━━━━━━━━━━━━━━━━\u001b[0m\u001b[37m\u001b[0m \u001b[1m4s\u001b[0m 5ms/step - accuracy: 0.9093 - loss: 0.3100 - val_accuracy: 0.9398 - val_loss: 0.2021\n",
            "Epoch 19/200\n",
            "\u001b[1m375/375\u001b[0m \u001b[32m━━━━━━━━━━━━━━━━━━━━\u001b[0m\u001b[37m\u001b[0m \u001b[1m2s\u001b[0m 4ms/step - accuracy: 0.9102 - loss: 0.3040 - val_accuracy: 0.9416 - val_loss: 0.1970\n",
            "Epoch 20/200\n",
            "\u001b[1m375/375\u001b[0m \u001b[32m━━━━━━━━━━━━━━━━━━━━\u001b[0m\u001b[37m\u001b[0m \u001b[1m2s\u001b[0m 5ms/step - accuracy: 0.9130 - loss: 0.2972 - val_accuracy: 0.9428 - val_loss: 0.1926\n",
            "Epoch 21/200\n",
            "\u001b[1m375/375\u001b[0m \u001b[32m━━━━━━━━━━━━━━━━━━━━\u001b[0m\u001b[37m\u001b[0m \u001b[1m3s\u001b[0m 7ms/step - accuracy: 0.9131 - loss: 0.2922 - val_accuracy: 0.9436 - val_loss: 0.1883\n",
            "Epoch 22/200\n",
            "\u001b[1m375/375\u001b[0m \u001b[32m━━━━━━━━━━━━━━━━━━━━\u001b[0m\u001b[37m\u001b[0m \u001b[1m2s\u001b[0m 6ms/step - accuracy: 0.9186 - loss: 0.2798 - val_accuracy: 0.9442 - val_loss: 0.1847\n",
            "Epoch 23/200\n",
            "\u001b[1m375/375\u001b[0m \u001b[32m━━━━━━━━━━━━━━━━━━━━\u001b[0m\u001b[37m\u001b[0m \u001b[1m2s\u001b[0m 5ms/step - accuracy: 0.9212 - loss: 0.2697 - val_accuracy: 0.9460 - val_loss: 0.1813\n",
            "Epoch 24/200\n",
            "\u001b[1m375/375\u001b[0m \u001b[32m━━━━━━━━━━━━━━━━━━━━\u001b[0m\u001b[37m\u001b[0m \u001b[1m2s\u001b[0m 5ms/step - accuracy: 0.9198 - loss: 0.2726 - val_accuracy: 0.9485 - val_loss: 0.1765\n",
            "Epoch 25/200\n",
            "\u001b[1m375/375\u001b[0m \u001b[32m━━━━━━━━━━━━━━━━━━━━\u001b[0m\u001b[37m\u001b[0m \u001b[1m2s\u001b[0m 5ms/step - accuracy: 0.9199 - loss: 0.2664 - val_accuracy: 0.9497 - val_loss: 0.1741\n",
            "Epoch 26/200\n",
            "\u001b[1m375/375\u001b[0m \u001b[32m━━━━━━━━━━━━━━━━━━━━\u001b[0m\u001b[37m\u001b[0m \u001b[1m2s\u001b[0m 5ms/step - accuracy: 0.9225 - loss: 0.2636 - val_accuracy: 0.9497 - val_loss: 0.1704\n",
            "Epoch 27/200\n",
            "\u001b[1m375/375\u001b[0m \u001b[32m━━━━━━━━━━━━━━━━━━━━\u001b[0m\u001b[37m\u001b[0m \u001b[1m3s\u001b[0m 6ms/step - accuracy: 0.9254 - loss: 0.2538 - val_accuracy: 0.9505 - val_loss: 0.1677\n",
            "Epoch 28/200\n",
            "\u001b[1m375/375\u001b[0m \u001b[32m━━━━━━━━━━━━━━━━━━━━\u001b[0m\u001b[37m\u001b[0m \u001b[1m3s\u001b[0m 7ms/step - accuracy: 0.9283 - loss: 0.2473 - val_accuracy: 0.9519 - val_loss: 0.1636\n",
            "Epoch 29/200\n",
            "\u001b[1m375/375\u001b[0m \u001b[32m━━━━━━━━━━━━━━━━━━━━\u001b[0m\u001b[37m\u001b[0m \u001b[1m2s\u001b[0m 5ms/step - accuracy: 0.9257 - loss: 0.2441 - val_accuracy: 0.9528 - val_loss: 0.1612\n",
            "Epoch 30/200\n",
            "\u001b[1m375/375\u001b[0m \u001b[32m━━━━━━━━━━━━━━━━━━━━\u001b[0m\u001b[37m\u001b[0m \u001b[1m2s\u001b[0m 5ms/step - accuracy: 0.9287 - loss: 0.2421 - val_accuracy: 0.9529 - val_loss: 0.1597\n",
            "Epoch 31/200\n",
            "\u001b[1m375/375\u001b[0m \u001b[32m━━━━━━━━━━━━━━━━━━━━\u001b[0m\u001b[37m\u001b[0m \u001b[1m3s\u001b[0m 5ms/step - accuracy: 0.9311 - loss: 0.2386 - val_accuracy: 0.9548 - val_loss: 0.1566\n",
            "Epoch 32/200\n",
            "\u001b[1m375/375\u001b[0m \u001b[32m━━━━━━━━━━━━━━━━━━━━\u001b[0m\u001b[37m\u001b[0m \u001b[1m2s\u001b[0m 5ms/step - accuracy: 0.9303 - loss: 0.2345 - val_accuracy: 0.9556 - val_loss: 0.1542\n",
            "Epoch 33/200\n",
            "\u001b[1m375/375\u001b[0m \u001b[32m━━━━━━━━━━━━━━━━━━━━\u001b[0m\u001b[37m\u001b[0m \u001b[1m4s\u001b[0m 8ms/step - accuracy: 0.9304 - loss: 0.2350 - val_accuracy: 0.9562 - val_loss: 0.1516\n",
            "Epoch 34/200\n",
            "\u001b[1m375/375\u001b[0m \u001b[32m━━━━━━━━━━━━━━━━━━━━\u001b[0m\u001b[37m\u001b[0m \u001b[1m2s\u001b[0m 5ms/step - accuracy: 0.9341 - loss: 0.2266 - val_accuracy: 0.9567 - val_loss: 0.1499\n",
            "Epoch 35/200\n",
            "\u001b[1m375/375\u001b[0m \u001b[32m━━━━━━━━━━━━━━━━━━━━\u001b[0m\u001b[37m\u001b[0m \u001b[1m2s\u001b[0m 5ms/step - accuracy: 0.9356 - loss: 0.2194 - val_accuracy: 0.9569 - val_loss: 0.1477\n",
            "Epoch 36/200\n",
            "\u001b[1m375/375\u001b[0m \u001b[32m━━━━━━━━━━━━━━━━━━━━\u001b[0m\u001b[37m\u001b[0m \u001b[1m2s\u001b[0m 5ms/step - accuracy: 0.9363 - loss: 0.2163 - val_accuracy: 0.9574 - val_loss: 0.1463\n",
            "Epoch 37/200\n",
            "\u001b[1m375/375\u001b[0m \u001b[32m━━━━━━━━━━━━━━━━━━━━\u001b[0m\u001b[37m\u001b[0m \u001b[1m3s\u001b[0m 5ms/step - accuracy: 0.9360 - loss: 0.2155 - val_accuracy: 0.9582 - val_loss: 0.1439\n",
            "Epoch 38/200\n",
            "\u001b[1m375/375\u001b[0m \u001b[32m━━━━━━━━━━━━━━━━━━━━\u001b[0m\u001b[37m\u001b[0m \u001b[1m3s\u001b[0m 6ms/step - accuracy: 0.9377 - loss: 0.2127 - val_accuracy: 0.9583 - val_loss: 0.1428\n",
            "Epoch 39/200\n",
            "\u001b[1m375/375\u001b[0m \u001b[32m━━━━━━━━━━━━━━━━━━━━\u001b[0m\u001b[37m\u001b[0m \u001b[1m3s\u001b[0m 7ms/step - accuracy: 0.9384 - loss: 0.2091 - val_accuracy: 0.9590 - val_loss: 0.1406\n",
            "Epoch 40/200\n",
            "\u001b[1m375/375\u001b[0m \u001b[32m━━━━━━━━━━━━━━━━━━━━\u001b[0m\u001b[37m\u001b[0m \u001b[1m4s\u001b[0m 5ms/step - accuracy: 0.9382 - loss: 0.2071 - val_accuracy: 0.9593 - val_loss: 0.1402\n",
            "Epoch 41/200\n",
            "\u001b[1m375/375\u001b[0m \u001b[32m━━━━━━━━━━━━━━━━━━━━\u001b[0m\u001b[37m\u001b[0m \u001b[1m3s\u001b[0m 5ms/step - accuracy: 0.9400 - loss: 0.2059 - val_accuracy: 0.9607 - val_loss: 0.1373\n",
            "Epoch 42/200\n",
            "\u001b[1m375/375\u001b[0m \u001b[32m━━━━━━━━━━━━━━━━━━━━\u001b[0m\u001b[37m\u001b[0m \u001b[1m2s\u001b[0m 5ms/step - accuracy: 0.9370 - loss: 0.2089 - val_accuracy: 0.9604 - val_loss: 0.1363\n",
            "Epoch 43/200\n",
            "\u001b[1m375/375\u001b[0m \u001b[32m━━━━━━━━━━━━━━━━━━━━\u001b[0m\u001b[37m\u001b[0m \u001b[1m3s\u001b[0m 8ms/step - accuracy: 0.9396 - loss: 0.2015 - val_accuracy: 0.9612 - val_loss: 0.1343\n",
            "Epoch 44/200\n",
            "\u001b[1m375/375\u001b[0m \u001b[32m━━━━━━━━━━━━━━━━━━━━\u001b[0m\u001b[37m\u001b[0m \u001b[1m4s\u001b[0m 5ms/step - accuracy: 0.9416 - loss: 0.1968 - val_accuracy: 0.9612 - val_loss: 0.1335\n",
            "Epoch 45/200\n",
            "\u001b[1m375/375\u001b[0m \u001b[32m━━━━━━━━━━━━━━━━━━━━\u001b[0m\u001b[37m\u001b[0m \u001b[1m2s\u001b[0m 5ms/step - accuracy: 0.9411 - loss: 0.1961 - val_accuracy: 0.9614 - val_loss: 0.1319\n",
            "Epoch 46/200\n",
            "\u001b[1m375/375\u001b[0m \u001b[32m━━━━━━━━━━━━━━━━━━━━\u001b[0m\u001b[37m\u001b[0m \u001b[1m2s\u001b[0m 5ms/step - accuracy: 0.9440 - loss: 0.1865 - val_accuracy: 0.9622 - val_loss: 0.1303\n",
            "Epoch 47/200\n",
            "\u001b[1m375/375\u001b[0m \u001b[32m━━━━━━━━━━━━━━━━━━━━\u001b[0m\u001b[37m\u001b[0m \u001b[1m3s\u001b[0m 5ms/step - accuracy: 0.9433 - loss: 0.1897 - val_accuracy: 0.9628 - val_loss: 0.1294\n",
            "Epoch 48/200\n",
            "\u001b[1m375/375\u001b[0m \u001b[32m━━━━━━━━━━━━━━━━━━━━\u001b[0m\u001b[37m\u001b[0m \u001b[1m3s\u001b[0m 8ms/step - accuracy: 0.9474 - loss: 0.1830 - val_accuracy: 0.9629 - val_loss: 0.1279\n",
            "Epoch 49/200\n",
            "\u001b[1m375/375\u001b[0m \u001b[32m━━━━━━━━━━━━━━━━━━━━\u001b[0m\u001b[37m\u001b[0m \u001b[1m4s\u001b[0m 5ms/step - accuracy: 0.9445 - loss: 0.1859 - val_accuracy: 0.9626 - val_loss: 0.1275\n",
            "Epoch 50/200\n",
            "\u001b[1m375/375\u001b[0m \u001b[32m━━━━━━━━━━━━━━━━━━━━\u001b[0m\u001b[37m\u001b[0m \u001b[1m2s\u001b[0m 5ms/step - accuracy: 0.9451 - loss: 0.1850 - val_accuracy: 0.9633 - val_loss: 0.1259\n",
            "Epoch 51/200\n",
            "\u001b[1m375/375\u001b[0m \u001b[32m━━━━━━━━━━━━━━━━━━━━\u001b[0m\u001b[37m\u001b[0m \u001b[1m2s\u001b[0m 5ms/step - accuracy: 0.9463 - loss: 0.1802 - val_accuracy: 0.9638 - val_loss: 0.1251\n",
            "Epoch 52/200\n",
            "\u001b[1m375/375\u001b[0m \u001b[32m━━━━━━━━━━━━━━━━━━━━\u001b[0m\u001b[37m\u001b[0m \u001b[1m2s\u001b[0m 5ms/step - accuracy: 0.9482 - loss: 0.1798 - val_accuracy: 0.9640 - val_loss: 0.1235\n",
            "Epoch 53/200\n",
            "\u001b[1m375/375\u001b[0m \u001b[32m━━━━━━━━━━━━━━━━━━━━\u001b[0m\u001b[37m\u001b[0m \u001b[1m3s\u001b[0m 8ms/step - accuracy: 0.9491 - loss: 0.1740 - val_accuracy: 0.9646 - val_loss: 0.1223\n",
            "Epoch 54/200\n",
            "\u001b[1m375/375\u001b[0m \u001b[32m━━━━━━━━━━━━━━━━━━━━\u001b[0m\u001b[37m\u001b[0m \u001b[1m4s\u001b[0m 5ms/step - accuracy: 0.9465 - loss: 0.1807 - val_accuracy: 0.9643 - val_loss: 0.1219\n",
            "Epoch 55/200\n",
            "\u001b[1m375/375\u001b[0m \u001b[32m━━━━━━━━━━━━━━━━━━━━\u001b[0m\u001b[37m\u001b[0m \u001b[1m2s\u001b[0m 5ms/step - accuracy: 0.9488 - loss: 0.1703 - val_accuracy: 0.9646 - val_loss: 0.1206\n",
            "Epoch 56/200\n",
            "\u001b[1m375/375\u001b[0m \u001b[32m━━━━━━━━━━━━━━━━━━━━\u001b[0m\u001b[37m\u001b[0m \u001b[1m2s\u001b[0m 5ms/step - accuracy: 0.9475 - loss: 0.1750 - val_accuracy: 0.9645 - val_loss: 0.1201\n",
            "Epoch 57/200\n",
            "\u001b[1m375/375\u001b[0m \u001b[32m━━━━━━━━━━━━━━━━━━━━\u001b[0m\u001b[37m\u001b[0m \u001b[1m2s\u001b[0m 5ms/step - accuracy: 0.9493 - loss: 0.1710 - val_accuracy: 0.9657 - val_loss: 0.1190\n",
            "Epoch 58/200\n",
            "\u001b[1m375/375\u001b[0m \u001b[32m━━━━━━━━━━━━━━━━━━━━\u001b[0m\u001b[37m\u001b[0m \u001b[1m2s\u001b[0m 6ms/step - accuracy: 0.9500 - loss: 0.1712 - val_accuracy: 0.9657 - val_loss: 0.1184\n",
            "Epoch 59/200\n",
            "\u001b[1m375/375\u001b[0m \u001b[32m━━━━━━━━━━━━━━━━━━━━\u001b[0m\u001b[37m\u001b[0m \u001b[1m2s\u001b[0m 6ms/step - accuracy: 0.9499 - loss: 0.1661 - val_accuracy: 0.9653 - val_loss: 0.1183\n",
            "Epoch 60/200\n",
            "\u001b[1m375/375\u001b[0m \u001b[32m━━━━━━━━━━━━━━━━━━━━\u001b[0m\u001b[37m\u001b[0m \u001b[1m2s\u001b[0m 5ms/step - accuracy: 0.9522 - loss: 0.1632 - val_accuracy: 0.9667 - val_loss: 0.1165\n",
            "Epoch 61/200\n",
            "\u001b[1m375/375\u001b[0m \u001b[32m━━━━━━━━━━━━━━━━━━━━\u001b[0m\u001b[37m\u001b[0m \u001b[1m2s\u001b[0m 5ms/step - accuracy: 0.9498 - loss: 0.1677 - val_accuracy: 0.9663 - val_loss: 0.1159\n",
            "Epoch 62/200\n",
            "\u001b[1m375/375\u001b[0m \u001b[32m━━━━━━━━━━━━━━━━━━━━\u001b[0m\u001b[37m\u001b[0m \u001b[1m2s\u001b[0m 4ms/step - accuracy: 0.9489 - loss: 0.1688 - val_accuracy: 0.9668 - val_loss: 0.1156\n",
            "Epoch 63/200\n",
            "\u001b[1m375/375\u001b[0m \u001b[32m━━━━━━━━━━━━━━━━━━━━\u001b[0m\u001b[37m\u001b[0m \u001b[1m3s\u001b[0m 5ms/step - accuracy: 0.9536 - loss: 0.1599 - val_accuracy: 0.9672 - val_loss: 0.1138\n",
            "Epoch 64/200\n",
            "\u001b[1m375/375\u001b[0m \u001b[32m━━━━━━━━━━━━━━━━━━━━\u001b[0m\u001b[37m\u001b[0m \u001b[1m2s\u001b[0m 6ms/step - accuracy: 0.9534 - loss: 0.1613 - val_accuracy: 0.9671 - val_loss: 0.1134\n",
            "Epoch 65/200\n",
            "\u001b[1m375/375\u001b[0m \u001b[32m━━━━━━━━━━━━━━━━━━━━\u001b[0m\u001b[37m\u001b[0m \u001b[1m3s\u001b[0m 7ms/step - accuracy: 0.9523 - loss: 0.1597 - val_accuracy: 0.9669 - val_loss: 0.1128\n",
            "Epoch 66/200\n",
            "\u001b[1m375/375\u001b[0m \u001b[32m━━━━━━━━━━━━━━━━━━━━\u001b[0m\u001b[37m\u001b[0m \u001b[1m4s\u001b[0m 5ms/step - accuracy: 0.9513 - loss: 0.1619 - val_accuracy: 0.9672 - val_loss: 0.1125\n",
            "Epoch 67/200\n",
            "\u001b[1m375/375\u001b[0m \u001b[32m━━━━━━━━━━━━━━━━━━━━\u001b[0m\u001b[37m\u001b[0m \u001b[1m2s\u001b[0m 5ms/step - accuracy: 0.9560 - loss: 0.1529 - val_accuracy: 0.9677 - val_loss: 0.1113\n",
            "Epoch 68/200\n",
            "\u001b[1m375/375\u001b[0m \u001b[32m━━━━━━━━━━━━━━━━━━━━\u001b[0m\u001b[37m\u001b[0m \u001b[1m2s\u001b[0m 4ms/step - accuracy: 0.9540 - loss: 0.1577 - val_accuracy: 0.9681 - val_loss: 0.1106\n",
            "Epoch 69/200\n",
            "\u001b[1m375/375\u001b[0m \u001b[32m━━━━━━━━━━━━━━━━━━━━\u001b[0m\u001b[37m\u001b[0m \u001b[1m3s\u001b[0m 7ms/step - accuracy: 0.9537 - loss: 0.1566 - val_accuracy: 0.9677 - val_loss: 0.1107\n",
            "Epoch 70/200\n",
            "\u001b[1m375/375\u001b[0m \u001b[32m━━━━━━━━━━━━━━━━━━━━\u001b[0m\u001b[37m\u001b[0m \u001b[1m4s\u001b[0m 5ms/step - accuracy: 0.9529 - loss: 0.1549 - val_accuracy: 0.9678 - val_loss: 0.1097\n",
            "Epoch 71/200\n",
            "\u001b[1m375/375\u001b[0m \u001b[32m━━━━━━━━━━━━━━━━━━━━\u001b[0m\u001b[37m\u001b[0m \u001b[1m2s\u001b[0m 5ms/step - accuracy: 0.9538 - loss: 0.1517 - val_accuracy: 0.9680 - val_loss: 0.1096\n",
            "Epoch 72/200\n",
            "\u001b[1m375/375\u001b[0m \u001b[32m━━━━━━━━━━━━━━━━━━━━\u001b[0m\u001b[37m\u001b[0m \u001b[1m2s\u001b[0m 5ms/step - accuracy: 0.9556 - loss: 0.1487 - val_accuracy: 0.9682 - val_loss: 0.1088\n",
            "Epoch 73/200\n",
            "\u001b[1m375/375\u001b[0m \u001b[32m━━━━━━━━━━━━━━━━━━━━\u001b[0m\u001b[37m\u001b[0m \u001b[1m3s\u001b[0m 7ms/step - accuracy: 0.9573 - loss: 0.1457 - val_accuracy: 0.9682 - val_loss: 0.1083\n",
            "Epoch 74/200\n",
            "\u001b[1m375/375\u001b[0m \u001b[32m━━━━━━━━━━━━━━━━━━━━\u001b[0m\u001b[37m\u001b[0m \u001b[1m3s\u001b[0m 7ms/step - accuracy: 0.9562 - loss: 0.1450 - val_accuracy: 0.9681 - val_loss: 0.1075\n",
            "Epoch 75/200\n",
            "\u001b[1m375/375\u001b[0m \u001b[32m━━━━━━━━━━━━━━━━━━━━\u001b[0m\u001b[37m\u001b[0m \u001b[1m2s\u001b[0m 5ms/step - accuracy: 0.9559 - loss: 0.1453 - val_accuracy: 0.9682 - val_loss: 0.1071\n",
            "Epoch 76/200\n",
            "\u001b[1m375/375\u001b[0m \u001b[32m━━━━━━━━━━━━━━━━━━━━\u001b[0m\u001b[37m\u001b[0m \u001b[1m2s\u001b[0m 5ms/step - accuracy: 0.9567 - loss: 0.1405 - val_accuracy: 0.9687 - val_loss: 0.1062\n",
            "Epoch 77/200\n",
            "\u001b[1m375/375\u001b[0m \u001b[32m━━━━━━━━━━━━━━━━━━━━\u001b[0m\u001b[37m\u001b[0m \u001b[1m2s\u001b[0m 5ms/step - accuracy: 0.9586 - loss: 0.1380 - val_accuracy: 0.9689 - val_loss: 0.1059\n",
            "Epoch 78/200\n",
            "\u001b[1m375/375\u001b[0m \u001b[32m━━━━━━━━━━━━━━━━━━━━\u001b[0m\u001b[37m\u001b[0m \u001b[1m2s\u001b[0m 5ms/step - accuracy: 0.9571 - loss: 0.1430 - val_accuracy: 0.9693 - val_loss: 0.1052\n",
            "Epoch 79/200\n",
            "\u001b[1m375/375\u001b[0m \u001b[32m━━━━━━━━━━━━━━━━━━━━\u001b[0m\u001b[37m\u001b[0m \u001b[1m4s\u001b[0m 8ms/step - accuracy: 0.9574 - loss: 0.1382 - val_accuracy: 0.9694 - val_loss: 0.1049\n",
            "Epoch 80/200\n",
            "\u001b[1m375/375\u001b[0m \u001b[32m━━━━━━━━━━━━━━━━━━━━\u001b[0m\u001b[37m\u001b[0m \u001b[1m4s\u001b[0m 5ms/step - accuracy: 0.9562 - loss: 0.1458 - val_accuracy: 0.9693 - val_loss: 0.1044\n",
            "Epoch 81/200\n",
            "\u001b[1m375/375\u001b[0m \u001b[32m━━━━━━━━━━━━━━━━━━━━\u001b[0m\u001b[37m\u001b[0m \u001b[1m2s\u001b[0m 5ms/step - accuracy: 0.9581 - loss: 0.1414 - val_accuracy: 0.9701 - val_loss: 0.1041\n",
            "Epoch 82/200\n",
            "\u001b[1m375/375\u001b[0m \u001b[32m━━━━━━━━━━━━━━━━━━━━\u001b[0m\u001b[37m\u001b[0m \u001b[1m3s\u001b[0m 5ms/step - accuracy: 0.9578 - loss: 0.1400 - val_accuracy: 0.9695 - val_loss: 0.1038\n",
            "Epoch 83/200\n",
            "\u001b[1m375/375\u001b[0m \u001b[32m━━━━━━━━━━━━━━━━━━━━\u001b[0m\u001b[37m\u001b[0m \u001b[1m4s\u001b[0m 9ms/step - accuracy: 0.9612 - loss: 0.1334 - val_accuracy: 0.9697 - val_loss: 0.1032\n",
            "Epoch 84/200\n",
            "\u001b[1m375/375\u001b[0m \u001b[32m━━━━━━━━━━━━━━━━━━━━\u001b[0m\u001b[37m\u001b[0m \u001b[1m2s\u001b[0m 5ms/step - accuracy: 0.9583 - loss: 0.1375 - val_accuracy: 0.9698 - val_loss: 0.1026\n",
            "Epoch 85/200\n",
            "\u001b[1m375/375\u001b[0m \u001b[32m━━━━━━━━━━━━━━━━━━━━\u001b[0m\u001b[37m\u001b[0m \u001b[1m3s\u001b[0m 5ms/step - accuracy: 0.9612 - loss: 0.1322 - val_accuracy: 0.9695 - val_loss: 0.1023\n",
            "Epoch 86/200\n",
            "\u001b[1m375/375\u001b[0m \u001b[32m━━━━━━━━━━━━━━━━━━━━\u001b[0m\u001b[37m\u001b[0m \u001b[1m3s\u001b[0m 5ms/step - accuracy: 0.9585 - loss: 0.1376 - val_accuracy: 0.9696 - val_loss: 0.1018\n",
            "Epoch 87/200\n",
            "\u001b[1m375/375\u001b[0m \u001b[32m━━━━━━━━━━━━━━━━━━━━\u001b[0m\u001b[37m\u001b[0m \u001b[1m2s\u001b[0m 5ms/step - accuracy: 0.9602 - loss: 0.1273 - val_accuracy: 0.9698 - val_loss: 0.1018\n",
            "Epoch 88/200\n",
            "\u001b[1m375/375\u001b[0m \u001b[32m━━━━━━━━━━━━━━━━━━━━\u001b[0m\u001b[37m\u001b[0m \u001b[1m4s\u001b[0m 8ms/step - accuracy: 0.9582 - loss: 0.1333 - val_accuracy: 0.9706 - val_loss: 0.1012\n",
            "Epoch 89/200\n",
            "\u001b[1m375/375\u001b[0m \u001b[32m━━━━━━━━━━━━━━━━━━━━\u001b[0m\u001b[37m\u001b[0m \u001b[1m4s\u001b[0m 5ms/step - accuracy: 0.9616 - loss: 0.1312 - val_accuracy: 0.9703 - val_loss: 0.1007\n",
            "Epoch 90/200\n",
            "\u001b[1m375/375\u001b[0m \u001b[32m━━━━━━━━━━━━━━━━━━━━\u001b[0m\u001b[37m\u001b[0m \u001b[1m2s\u001b[0m 5ms/step - accuracy: 0.9618 - loss: 0.1284 - val_accuracy: 0.9705 - val_loss: 0.1000\n",
            "Epoch 91/200\n",
            "\u001b[1m375/375\u001b[0m \u001b[32m━━━━━━━━━━━━━━━━━━━━\u001b[0m\u001b[37m\u001b[0m \u001b[1m2s\u001b[0m 5ms/step - accuracy: 0.9601 - loss: 0.1311 - val_accuracy: 0.9706 - val_loss: 0.0999\n",
            "Epoch 92/200\n",
            "\u001b[1m375/375\u001b[0m \u001b[32m━━━━━━━━━━━━━━━━━━━━\u001b[0m\u001b[37m\u001b[0m \u001b[1m4s\u001b[0m 8ms/step - accuracy: 0.9615 - loss: 0.1285 - val_accuracy: 0.9711 - val_loss: 0.0995\n",
            "Epoch 93/200\n",
            "\u001b[1m375/375\u001b[0m \u001b[32m━━━━━━━━━━━━━━━━━━━━\u001b[0m\u001b[37m\u001b[0m \u001b[1m4s\u001b[0m 5ms/step - accuracy: 0.9613 - loss: 0.1291 - val_accuracy: 0.9707 - val_loss: 0.0987\n",
            "Epoch 94/200\n",
            "\u001b[1m375/375\u001b[0m \u001b[32m━━━━━━━━━━━━━━━━━━━━\u001b[0m\u001b[37m\u001b[0m \u001b[1m3s\u001b[0m 5ms/step - accuracy: 0.9615 - loss: 0.1274 - val_accuracy: 0.9707 - val_loss: 0.0988\n",
            "Epoch 95/200\n",
            "\u001b[1m375/375\u001b[0m \u001b[32m━━━━━━━━━━━━━━━━━━━━\u001b[0m\u001b[37m\u001b[0m \u001b[1m2s\u001b[0m 5ms/step - accuracy: 0.9636 - loss: 0.1252 - val_accuracy: 0.9707 - val_loss: 0.0984\n",
            "Epoch 96/200\n",
            "\u001b[1m375/375\u001b[0m \u001b[32m━━━━━━━━━━━━━━━━━━━━\u001b[0m\u001b[37m\u001b[0m \u001b[1m3s\u001b[0m 7ms/step - accuracy: 0.9617 - loss: 0.1281 - val_accuracy: 0.9711 - val_loss: 0.0979\n",
            "Epoch 97/200\n",
            "\u001b[1m375/375\u001b[0m \u001b[32m━━━━━━━━━━━━━━━━━━━━\u001b[0m\u001b[37m\u001b[0m \u001b[1m4s\u001b[0m 5ms/step - accuracy: 0.9633 - loss: 0.1235 - val_accuracy: 0.9709 - val_loss: 0.0982\n",
            "Epoch 98/200\n",
            "\u001b[1m375/375\u001b[0m \u001b[32m━━━━━━━━━━━━━━━━━━━━\u001b[0m\u001b[37m\u001b[0m \u001b[1m2s\u001b[0m 5ms/step - accuracy: 0.9617 - loss: 0.1254 - val_accuracy: 0.9713 - val_loss: 0.0979\n",
            "Epoch 99/200\n",
            "\u001b[1m375/375\u001b[0m \u001b[32m━━━━━━━━━━━━━━━━━━━━\u001b[0m\u001b[37m\u001b[0m \u001b[1m2s\u001b[0m 5ms/step - accuracy: 0.9614 - loss: 0.1212 - val_accuracy: 0.9715 - val_loss: 0.0967\n",
            "Epoch 100/200\n",
            "\u001b[1m375/375\u001b[0m \u001b[32m━━━━━━━━━━━━━━━━━━━━\u001b[0m\u001b[37m\u001b[0m \u001b[1m2s\u001b[0m 5ms/step - accuracy: 0.9635 - loss: 0.1197 - val_accuracy: 0.9716 - val_loss: 0.0968\n",
            "Epoch 101/200\n",
            "\u001b[1m375/375\u001b[0m \u001b[32m━━━━━━━━━━━━━━━━━━━━\u001b[0m\u001b[37m\u001b[0m \u001b[1m3s\u001b[0m 9ms/step - accuracy: 0.9618 - loss: 0.1237 - val_accuracy: 0.9718 - val_loss: 0.0964\n",
            "Epoch 102/200\n",
            "\u001b[1m375/375\u001b[0m \u001b[32m━━━━━━━━━━━━━━━━━━━━\u001b[0m\u001b[37m\u001b[0m \u001b[1m4s\u001b[0m 5ms/step - accuracy: 0.9645 - loss: 0.1200 - val_accuracy: 0.9716 - val_loss: 0.0962\n",
            "Epoch 103/200\n",
            "\u001b[1m375/375\u001b[0m \u001b[32m━━━━━━━━━━━━━━━━━━━━\u001b[0m\u001b[37m\u001b[0m \u001b[1m2s\u001b[0m 5ms/step - accuracy: 0.9629 - loss: 0.1223 - val_accuracy: 0.9719 - val_loss: 0.0960\n",
            "Epoch 104/200\n",
            "\u001b[1m375/375\u001b[0m \u001b[32m━━━━━━━━━━━━━━━━━━━━\u001b[0m\u001b[37m\u001b[0m \u001b[1m3s\u001b[0m 5ms/step - accuracy: 0.9641 - loss: 0.1164 - val_accuracy: 0.9718 - val_loss: 0.0957\n",
            "Epoch 105/200\n",
            "\u001b[1m375/375\u001b[0m \u001b[32m━━━━━━━━━━━━━━━━━━━━\u001b[0m\u001b[37m\u001b[0m \u001b[1m3s\u001b[0m 6ms/step - accuracy: 0.9632 - loss: 0.1197 - val_accuracy: 0.9715 - val_loss: 0.0956\n",
            "Epoch 106/200\n",
            "\u001b[1m375/375\u001b[0m \u001b[32m━━━━━━━━━━━━━━━━━━━━\u001b[0m\u001b[37m\u001b[0m \u001b[1m3s\u001b[0m 7ms/step - accuracy: 0.9657 - loss: 0.1179 - val_accuracy: 0.9723 - val_loss: 0.0950\n",
            "Epoch 107/200\n",
            "\u001b[1m375/375\u001b[0m \u001b[32m━━━━━━━━━━━━━━━━━━━━\u001b[0m\u001b[37m\u001b[0m \u001b[1m4s\u001b[0m 5ms/step - accuracy: 0.9647 - loss: 0.1168 - val_accuracy: 0.9716 - val_loss: 0.0949\n",
            "Epoch 108/200\n",
            "\u001b[1m375/375\u001b[0m \u001b[32m━━━━━━━━━━━━━━━━━━━━\u001b[0m\u001b[37m\u001b[0m \u001b[1m2s\u001b[0m 5ms/step - accuracy: 0.9646 - loss: 0.1151 - val_accuracy: 0.9718 - val_loss: 0.0951\n",
            "Epoch 109/200\n",
            "\u001b[1m375/375\u001b[0m \u001b[32m━━━━━━━━━━━━━━━━━━━━\u001b[0m\u001b[37m\u001b[0m \u001b[1m3s\u001b[0m 5ms/step - accuracy: 0.9667 - loss: 0.1122 - val_accuracy: 0.9718 - val_loss: 0.0951\n",
            "Epoch 110/200\n",
            "\u001b[1m375/375\u001b[0m \u001b[32m━━━━━━━━━━━━━━━━━━━━\u001b[0m\u001b[37m\u001b[0m \u001b[1m4s\u001b[0m 8ms/step - accuracy: 0.9638 - loss: 0.1187 - val_accuracy: 0.9718 - val_loss: 0.0944\n",
            "Epoch 111/200\n",
            "\u001b[1m375/375\u001b[0m \u001b[32m━━━━━━━━━━━━━━━━━━━━\u001b[0m\u001b[37m\u001b[0m \u001b[1m2s\u001b[0m 5ms/step - accuracy: 0.9662 - loss: 0.1115 - val_accuracy: 0.9722 - val_loss: 0.0937\n",
            "Epoch 112/200\n",
            "\u001b[1m375/375\u001b[0m \u001b[32m━━━━━━━━━━━━━━━━━━━━\u001b[0m\u001b[37m\u001b[0m \u001b[1m3s\u001b[0m 5ms/step - accuracy: 0.9661 - loss: 0.1117 - val_accuracy: 0.9718 - val_loss: 0.0941\n",
            "Epoch 113/200\n",
            "\u001b[1m375/375\u001b[0m \u001b[32m━━━━━━━━━━━━━━━━━━━━\u001b[0m\u001b[37m\u001b[0m \u001b[1m2s\u001b[0m 5ms/step - accuracy: 0.9645 - loss: 0.1164 - val_accuracy: 0.9722 - val_loss: 0.0936\n",
            "Epoch 114/200\n",
            "\u001b[1m375/375\u001b[0m \u001b[32m━━━━━━━━━━━━━━━━━━━━\u001b[0m\u001b[37m\u001b[0m \u001b[1m3s\u001b[0m 5ms/step - accuracy: 0.9667 - loss: 0.1130 - val_accuracy: 0.9727 - val_loss: 0.0935\n",
            "Epoch 115/200\n",
            "\u001b[1m375/375\u001b[0m \u001b[32m━━━━━━━━━━━━━━━━━━━━\u001b[0m\u001b[37m\u001b[0m \u001b[1m2s\u001b[0m 6ms/step - accuracy: 0.9664 - loss: 0.1098 - val_accuracy: 0.9723 - val_loss: 0.0930\n",
            "Epoch 116/200\n",
            "\u001b[1m375/375\u001b[0m \u001b[32m━━━━━━━━━━━━━━━━━━━━\u001b[0m\u001b[37m\u001b[0m \u001b[1m3s\u001b[0m 7ms/step - accuracy: 0.9652 - loss: 0.1125 - val_accuracy: 0.9731 - val_loss: 0.0930\n",
            "Epoch 117/200\n",
            "\u001b[1m375/375\u001b[0m \u001b[32m━━━━━━━━━━━━━━━━━━━━\u001b[0m\u001b[37m\u001b[0m \u001b[1m2s\u001b[0m 5ms/step - accuracy: 0.9659 - loss: 0.1117 - val_accuracy: 0.9729 - val_loss: 0.0925\n",
            "Epoch 118/200\n",
            "\u001b[1m375/375\u001b[0m \u001b[32m━━━━━━━━━━━━━━━━━━━━\u001b[0m\u001b[37m\u001b[0m \u001b[1m3s\u001b[0m 5ms/step - accuracy: 0.9685 - loss: 0.1091 - val_accuracy: 0.9728 - val_loss: 0.0923\n",
            "Epoch 119/200\n",
            "\u001b[1m375/375\u001b[0m \u001b[32m━━━━━━━━━━━━━━━━━━━━\u001b[0m\u001b[37m\u001b[0m \u001b[1m2s\u001b[0m 5ms/step - accuracy: 0.9662 - loss: 0.1085 - val_accuracy: 0.9727 - val_loss: 0.0921\n",
            "Epoch 120/200\n",
            "\u001b[1m375/375\u001b[0m \u001b[32m━━━━━━━━━━━━━━━━━━━━\u001b[0m\u001b[37m\u001b[0m \u001b[1m2s\u001b[0m 5ms/step - accuracy: 0.9667 - loss: 0.1099 - val_accuracy: 0.9730 - val_loss: 0.0918\n",
            "Epoch 121/200\n",
            "\u001b[1m375/375\u001b[0m \u001b[32m━━━━━━━━━━━━━━━━━━━━\u001b[0m\u001b[37m\u001b[0m \u001b[1m2s\u001b[0m 6ms/step - accuracy: 0.9662 - loss: 0.1083 - val_accuracy: 0.9726 - val_loss: 0.0918\n",
            "Epoch 122/200\n",
            "\u001b[1m375/375\u001b[0m \u001b[32m━━━━━━━━━━━━━━━━━━━━\u001b[0m\u001b[37m\u001b[0m \u001b[1m3s\u001b[0m 7ms/step - accuracy: 0.9663 - loss: 0.1069 - val_accuracy: 0.9732 - val_loss: 0.0914\n",
            "Epoch 123/200\n",
            "\u001b[1m375/375\u001b[0m \u001b[32m━━━━━━━━━━━━━━━━━━━━\u001b[0m\u001b[37m\u001b[0m \u001b[1m2s\u001b[0m 5ms/step - accuracy: 0.9668 - loss: 0.1075 - val_accuracy: 0.9732 - val_loss: 0.0911\n",
            "Epoch 124/200\n",
            "\u001b[1m375/375\u001b[0m \u001b[32m━━━━━━━━━━━━━━━━━━━━\u001b[0m\u001b[37m\u001b[0m \u001b[1m3s\u001b[0m 5ms/step - accuracy: 0.9685 - loss: 0.1020 - val_accuracy: 0.9731 - val_loss: 0.0913\n",
            "Epoch 125/200\n",
            "\u001b[1m375/375\u001b[0m \u001b[32m━━━━━━━━━━━━━━━━━━━━\u001b[0m\u001b[37m\u001b[0m \u001b[1m3s\u001b[0m 5ms/step - accuracy: 0.9670 - loss: 0.1066 - val_accuracy: 0.9732 - val_loss: 0.0905\n",
            "Epoch 126/200\n",
            "\u001b[1m375/375\u001b[0m \u001b[32m━━━━━━━━━━━━━━━━━━━━\u001b[0m\u001b[37m\u001b[0m \u001b[1m3s\u001b[0m 7ms/step - accuracy: 0.9685 - loss: 0.1046 - val_accuracy: 0.9733 - val_loss: 0.0908\n",
            "Epoch 127/200\n",
            "\u001b[1m375/375\u001b[0m \u001b[32m━━━━━━━━━━━━━━━━━━━━\u001b[0m\u001b[37m\u001b[0m \u001b[1m3s\u001b[0m 7ms/step - accuracy: 0.9674 - loss: 0.1053 - val_accuracy: 0.9732 - val_loss: 0.0909\n",
            "Epoch 128/200\n",
            "\u001b[1m375/375\u001b[0m \u001b[32m━━━━━━━━━━━━━━━━━━━━\u001b[0m\u001b[37m\u001b[0m \u001b[1m2s\u001b[0m 5ms/step - accuracy: 0.9680 - loss: 0.1046 - val_accuracy: 0.9735 - val_loss: 0.0905\n",
            "Epoch 129/200\n",
            "\u001b[1m375/375\u001b[0m \u001b[32m━━━━━━━━━━━━━━━━━━━━\u001b[0m\u001b[37m\u001b[0m \u001b[1m2s\u001b[0m 5ms/step - accuracy: 0.9670 - loss: 0.1062 - val_accuracy: 0.9735 - val_loss: 0.0904\n",
            "Epoch 130/200\n",
            "\u001b[1m375/375\u001b[0m \u001b[32m━━━━━━━━━━━━━━━━━━━━\u001b[0m\u001b[37m\u001b[0m \u001b[1m2s\u001b[0m 5ms/step - accuracy: 0.9698 - loss: 0.1003 - val_accuracy: 0.9732 - val_loss: 0.0902\n",
            "Epoch 131/200\n",
            "\u001b[1m375/375\u001b[0m \u001b[32m━━━━━━━━━━━━━━━━━━━━\u001b[0m\u001b[37m\u001b[0m \u001b[1m2s\u001b[0m 5ms/step - accuracy: 0.9699 - loss: 0.0998 - val_accuracy: 0.9737 - val_loss: 0.0897\n",
            "Epoch 132/200\n",
            "\u001b[1m375/375\u001b[0m \u001b[32m━━━━━━━━━━━━━━━━━━━━\u001b[0m\u001b[37m\u001b[0m \u001b[1m3s\u001b[0m 7ms/step - accuracy: 0.9681 - loss: 0.1048 - val_accuracy: 0.9734 - val_loss: 0.0900\n",
            "Epoch 133/200\n",
            "\u001b[1m375/375\u001b[0m \u001b[32m━━━━━━━━━━━━━━━━━━━━\u001b[0m\u001b[37m\u001b[0m \u001b[1m3s\u001b[0m 7ms/step - accuracy: 0.9686 - loss: 0.1037 - val_accuracy: 0.9732 - val_loss: 0.0894\n",
            "Epoch 134/200\n",
            "\u001b[1m375/375\u001b[0m \u001b[32m━━━━━━━━━━━━━━━━━━━━\u001b[0m\u001b[37m\u001b[0m \u001b[1m2s\u001b[0m 5ms/step - accuracy: 0.9694 - loss: 0.1012 - val_accuracy: 0.9736 - val_loss: 0.0891\n",
            "Epoch 135/200\n",
            "\u001b[1m375/375\u001b[0m \u001b[32m━━━━━━━━━━━━━━━━━━━━\u001b[0m\u001b[37m\u001b[0m \u001b[1m2s\u001b[0m 5ms/step - accuracy: 0.9695 - loss: 0.1003 - val_accuracy: 0.9737 - val_loss: 0.0891\n",
            "Epoch 136/200\n",
            "\u001b[1m375/375\u001b[0m \u001b[32m━━━━━━━━━━━━━━━━━━━━\u001b[0m\u001b[37m\u001b[0m \u001b[1m2s\u001b[0m 5ms/step - accuracy: 0.9691 - loss: 0.0999 - val_accuracy: 0.9741 - val_loss: 0.0889\n",
            "Epoch 137/200\n",
            "\u001b[1m375/375\u001b[0m \u001b[32m━━━━━━━━━━━━━━━━━━━━\u001b[0m\u001b[37m\u001b[0m \u001b[1m2s\u001b[0m 5ms/step - accuracy: 0.9701 - loss: 0.0978 - val_accuracy: 0.9740 - val_loss: 0.0887\n",
            "Epoch 138/200\n",
            "\u001b[1m375/375\u001b[0m \u001b[32m━━━━━━━━━━━━━━━━━━━━\u001b[0m\u001b[37m\u001b[0m \u001b[1m4s\u001b[0m 8ms/step - accuracy: 0.9694 - loss: 0.0984 - val_accuracy: 0.9736 - val_loss: 0.0891\n",
            "Epoch 139/200\n",
            "\u001b[1m375/375\u001b[0m \u001b[32m━━━━━━━━━━━━━━━━━━━━\u001b[0m\u001b[37m\u001b[0m \u001b[1m4s\u001b[0m 5ms/step - accuracy: 0.9703 - loss: 0.0978 - val_accuracy: 0.9736 - val_loss: 0.0889\n",
            "Epoch 140/200\n",
            "\u001b[1m375/375\u001b[0m \u001b[32m━━━━━━━━━━━━━━━━━━━━\u001b[0m\u001b[37m\u001b[0m \u001b[1m2s\u001b[0m 5ms/step - accuracy: 0.9714 - loss: 0.0955 - val_accuracy: 0.9745 - val_loss: 0.0884\n",
            "Epoch 141/200\n",
            "\u001b[1m375/375\u001b[0m \u001b[32m━━━━━━━━━━━━━━━━━━━━\u001b[0m\u001b[37m\u001b[0m \u001b[1m3s\u001b[0m 5ms/step - accuracy: 0.9702 - loss: 0.0976 - val_accuracy: 0.9744 - val_loss: 0.0884\n",
            "Epoch 142/200\n",
            "\u001b[1m375/375\u001b[0m \u001b[32m━━━━━━━━━━━━━━━━━━━━\u001b[0m\u001b[37m\u001b[0m \u001b[1m3s\u001b[0m 7ms/step - accuracy: 0.9713 - loss: 0.0955 - val_accuracy: 0.9746 - val_loss: 0.0881\n",
            "Epoch 143/200\n",
            "\u001b[1m375/375\u001b[0m \u001b[32m━━━━━━━━━━━━━━━━━━━━\u001b[0m\u001b[37m\u001b[0m \u001b[1m4s\u001b[0m 5ms/step - accuracy: 0.9711 - loss: 0.0943 - val_accuracy: 0.9737 - val_loss: 0.0878\n",
            "Epoch 144/200\n",
            "\u001b[1m375/375\u001b[0m \u001b[32m━━━━━━━━━━━━━━━━━━━━\u001b[0m\u001b[37m\u001b[0m \u001b[1m2s\u001b[0m 5ms/step - accuracy: 0.9715 - loss: 0.0959 - val_accuracy: 0.9746 - val_loss: 0.0877\n",
            "Epoch 145/200\n",
            "\u001b[1m375/375\u001b[0m \u001b[32m━━━━━━━━━━━━━━━━━━━━\u001b[0m\u001b[37m\u001b[0m \u001b[1m3s\u001b[0m 5ms/step - accuracy: 0.9700 - loss: 0.0968 - val_accuracy: 0.9742 - val_loss: 0.0878\n",
            "Epoch 146/200\n",
            "\u001b[1m375/375\u001b[0m \u001b[32m━━━━━━━━━━━━━━━━━━━━\u001b[0m\u001b[37m\u001b[0m \u001b[1m2s\u001b[0m 5ms/step - accuracy: 0.9691 - loss: 0.0988 - val_accuracy: 0.9747 - val_loss: 0.0877\n",
            "Epoch 147/200\n",
            "\u001b[1m375/375\u001b[0m \u001b[32m━━━━━━━━━━━━━━━━━━━━\u001b[0m\u001b[37m\u001b[0m \u001b[1m3s\u001b[0m 7ms/step - accuracy: 0.9708 - loss: 0.0966 - val_accuracy: 0.9747 - val_loss: 0.0879\n",
            "Epoch 148/200\n",
            "\u001b[1m375/375\u001b[0m \u001b[32m━━━━━━━━━━━━━━━━━━━━\u001b[0m\u001b[37m\u001b[0m \u001b[1m4s\u001b[0m 5ms/step - accuracy: 0.9722 - loss: 0.0919 - val_accuracy: 0.9747 - val_loss: 0.0875\n",
            "Epoch 149/200\n",
            "\u001b[1m375/375\u001b[0m \u001b[32m━━━━━━━━━━━━━━━━━━━━\u001b[0m\u001b[37m\u001b[0m \u001b[1m2s\u001b[0m 5ms/step - accuracy: 0.9703 - loss: 0.0946 - val_accuracy: 0.9747 - val_loss: 0.0872\n",
            "Epoch 150/200\n",
            "\u001b[1m375/375\u001b[0m \u001b[32m━━━━━━━━━━━━━━━━━━━━\u001b[0m\u001b[37m\u001b[0m \u001b[1m2s\u001b[0m 5ms/step - accuracy: 0.9720 - loss: 0.0935 - val_accuracy: 0.9749 - val_loss: 0.0872\n",
            "Epoch 151/200\n",
            "\u001b[1m375/375\u001b[0m \u001b[32m━━━━━━━━━━━━━━━━━━━━\u001b[0m\u001b[37m\u001b[0m \u001b[1m2s\u001b[0m 6ms/step - accuracy: 0.9719 - loss: 0.0898 - val_accuracy: 0.9749 - val_loss: 0.0870\n",
            "Epoch 152/200\n",
            "\u001b[1m375/375\u001b[0m \u001b[32m━━━━━━━━━━━━━━━━━━━━\u001b[0m\u001b[37m\u001b[0m \u001b[1m2s\u001b[0m 6ms/step - accuracy: 0.9720 - loss: 0.0911 - val_accuracy: 0.9747 - val_loss: 0.0868\n",
            "Epoch 153/200\n",
            "\u001b[1m375/375\u001b[0m \u001b[32m━━━━━━━━━━━━━━━━━━━━\u001b[0m\u001b[37m\u001b[0m \u001b[1m2s\u001b[0m 5ms/step - accuracy: 0.9720 - loss: 0.0912 - val_accuracy: 0.9750 - val_loss: 0.0867\n",
            "Epoch 154/200\n",
            "\u001b[1m375/375\u001b[0m \u001b[32m━━━━━━━━━━━━━━━━━━━━\u001b[0m\u001b[37m\u001b[0m \u001b[1m3s\u001b[0m 5ms/step - accuracy: 0.9719 - loss: 0.0917 - val_accuracy: 0.9748 - val_loss: 0.0865\n",
            "Epoch 155/200\n",
            "\u001b[1m375/375\u001b[0m \u001b[32m━━━━━━━━━━━━━━━━━━━━\u001b[0m\u001b[37m\u001b[0m \u001b[1m2s\u001b[0m 5ms/step - accuracy: 0.9730 - loss: 0.0891 - val_accuracy: 0.9753 - val_loss: 0.0865\n",
            "Epoch 156/200\n",
            "\u001b[1m375/375\u001b[0m \u001b[32m━━━━━━━━━━━━━━━━━━━━\u001b[0m\u001b[37m\u001b[0m \u001b[1m2s\u001b[0m 5ms/step - accuracy: 0.9713 - loss: 0.0929 - val_accuracy: 0.9753 - val_loss: 0.0861\n",
            "Epoch 157/200\n",
            "\u001b[1m375/375\u001b[0m \u001b[32m━━━━━━━━━━━━━━━━━━━━\u001b[0m\u001b[37m\u001b[0m \u001b[1m3s\u001b[0m 8ms/step - accuracy: 0.9732 - loss: 0.0898 - val_accuracy: 0.9753 - val_loss: 0.0864\n",
            "Epoch 158/200\n",
            "\u001b[1m375/375\u001b[0m \u001b[32m━━━━━━━━━━━━━━━━━━━━\u001b[0m\u001b[37m\u001b[0m \u001b[1m4s\u001b[0m 5ms/step - accuracy: 0.9741 - loss: 0.0878 - val_accuracy: 0.9752 - val_loss: 0.0862\n",
            "Epoch 159/200\n",
            "\u001b[1m375/375\u001b[0m \u001b[32m━━━━━━━━━━━━━━━━━━━━\u001b[0m\u001b[37m\u001b[0m \u001b[1m3s\u001b[0m 5ms/step - accuracy: 0.9715 - loss: 0.0923 - val_accuracy: 0.9753 - val_loss: 0.0855\n",
            "Epoch 160/200\n",
            "\u001b[1m375/375\u001b[0m \u001b[32m━━━━━━━━━━━━━━━━━━━━\u001b[0m\u001b[37m\u001b[0m \u001b[1m3s\u001b[0m 5ms/step - accuracy: 0.9726 - loss: 0.0891 - val_accuracy: 0.9749 - val_loss: 0.0859\n",
            "Epoch 161/200\n",
            "\u001b[1m375/375\u001b[0m \u001b[32m━━━━━━━━━━━━━━━━━━━━\u001b[0m\u001b[37m\u001b[0m \u001b[1m2s\u001b[0m 6ms/step - accuracy: 0.9743 - loss: 0.0858 - val_accuracy: 0.9754 - val_loss: 0.0856\n",
            "Epoch 162/200\n",
            "\u001b[1m375/375\u001b[0m \u001b[32m━━━━━━━━━━━━━━━━━━━━\u001b[0m\u001b[37m\u001b[0m \u001b[1m3s\u001b[0m 7ms/step - accuracy: 0.9728 - loss: 0.0893 - val_accuracy: 0.9752 - val_loss: 0.0860\n",
            "Epoch 163/200\n",
            "\u001b[1m375/375\u001b[0m \u001b[32m━━━━━━━━━━━━━━━━━━━━\u001b[0m\u001b[37m\u001b[0m \u001b[1m4s\u001b[0m 5ms/step - accuracy: 0.9736 - loss: 0.0861 - val_accuracy: 0.9754 - val_loss: 0.0853\n",
            "Epoch 164/200\n",
            "\u001b[1m375/375\u001b[0m \u001b[32m━━━━━━━━━━━━━━━━━━━━\u001b[0m\u001b[37m\u001b[0m \u001b[1m3s\u001b[0m 5ms/step - accuracy: 0.9733 - loss: 0.0892 - val_accuracy: 0.9750 - val_loss: 0.0857\n",
            "Epoch 165/200\n",
            "\u001b[1m375/375\u001b[0m \u001b[32m━━━━━━━━━━━━━━━━━━━━\u001b[0m\u001b[37m\u001b[0m \u001b[1m2s\u001b[0m 5ms/step - accuracy: 0.9754 - loss: 0.0839 - val_accuracy: 0.9753 - val_loss: 0.0855\n",
            "Epoch 166/200\n",
            "\u001b[1m375/375\u001b[0m \u001b[32m━━━━━━━━━━━━━━━━━━━━\u001b[0m\u001b[37m\u001b[0m \u001b[1m4s\u001b[0m 8ms/step - accuracy: 0.9727 - loss: 0.0910 - val_accuracy: 0.9748 - val_loss: 0.0859\n",
            "Epoch 167/200\n",
            "\u001b[1m375/375\u001b[0m \u001b[32m━━━━━━━━━━━━━━━━━━━━\u001b[0m\u001b[37m\u001b[0m \u001b[1m4s\u001b[0m 5ms/step - accuracy: 0.9743 - loss: 0.0820 - val_accuracy: 0.9755 - val_loss: 0.0852\n",
            "Epoch 168/200\n",
            "\u001b[1m375/375\u001b[0m \u001b[32m━━━━━━━━━━━━━━━━━━━━\u001b[0m\u001b[37m\u001b[0m \u001b[1m3s\u001b[0m 5ms/step - accuracy: 0.9747 - loss: 0.0829 - val_accuracy: 0.9754 - val_loss: 0.0851\n",
            "Epoch 169/200\n",
            "\u001b[1m375/375\u001b[0m \u001b[32m━━━━━━━━━━━━━━━━━━━━\u001b[0m\u001b[37m\u001b[0m \u001b[1m2s\u001b[0m 5ms/step - accuracy: 0.9745 - loss: 0.0821 - val_accuracy: 0.9751 - val_loss: 0.0850\n",
            "Epoch 170/200\n",
            "\u001b[1m375/375\u001b[0m \u001b[32m━━━━━━━━━━━━━━━━━━━━\u001b[0m\u001b[37m\u001b[0m \u001b[1m3s\u001b[0m 7ms/step - accuracy: 0.9736 - loss: 0.0852 - val_accuracy: 0.9757 - val_loss: 0.0852\n",
            "Epoch 171/200\n",
            "\u001b[1m375/375\u001b[0m \u001b[32m━━━━━━━━━━━━━━━━━━━━\u001b[0m\u001b[37m\u001b[0m \u001b[1m4s\u001b[0m 5ms/step - accuracy: 0.9735 - loss: 0.0843 - val_accuracy: 0.9753 - val_loss: 0.0853\n",
            "Epoch 172/200\n",
            "\u001b[1m375/375\u001b[0m \u001b[32m━━━━━━━━━━━━━━━━━━━━\u001b[0m\u001b[37m\u001b[0m \u001b[1m2s\u001b[0m 5ms/step - accuracy: 0.9743 - loss: 0.0817 - val_accuracy: 0.9755 - val_loss: 0.0849\n",
            "Epoch 173/200\n",
            "\u001b[1m375/375\u001b[0m \u001b[32m━━━━━━━━━━━━━━━━━━━━\u001b[0m\u001b[37m\u001b[0m \u001b[1m2s\u001b[0m 5ms/step - accuracy: 0.9746 - loss: 0.0823 - val_accuracy: 0.9760 - val_loss: 0.0844\n",
            "Epoch 174/200\n",
            "\u001b[1m375/375\u001b[0m \u001b[32m━━━━━━━━━━━━━━━━━━━━\u001b[0m\u001b[37m\u001b[0m \u001b[1m2s\u001b[0m 5ms/step - accuracy: 0.9745 - loss: 0.0835 - val_accuracy: 0.9758 - val_loss: 0.0848\n",
            "Epoch 175/200\n",
            "\u001b[1m375/375\u001b[0m \u001b[32m━━━━━━━━━━━━━━━━━━━━\u001b[0m\u001b[37m\u001b[0m \u001b[1m3s\u001b[0m 7ms/step - accuracy: 0.9768 - loss: 0.0790 - val_accuracy: 0.9752 - val_loss: 0.0846\n",
            "Epoch 176/200\n",
            "\u001b[1m375/375\u001b[0m \u001b[32m━━━━━━━━━━━━━━━━━━━━\u001b[0m\u001b[37m\u001b[0m \u001b[1m2s\u001b[0m 5ms/step - accuracy: 0.9748 - loss: 0.0822 - val_accuracy: 0.9752 - val_loss: 0.0850\n",
            "Epoch 177/200\n",
            "\u001b[1m375/375\u001b[0m \u001b[32m━━━━━━━━━━━━━━━━━━━━\u001b[0m\u001b[37m\u001b[0m \u001b[1m3s\u001b[0m 5ms/step - accuracy: 0.9742 - loss: 0.0835 - val_accuracy: 0.9752 - val_loss: 0.0852\n",
            "Epoch 178/200\n",
            "\u001b[1m375/375\u001b[0m \u001b[32m━━━━━━━━━━━━━━━━━━━━\u001b[0m\u001b[37m\u001b[0m \u001b[1m2s\u001b[0m 5ms/step - accuracy: 0.9748 - loss: 0.0811 - val_accuracy: 0.9752 - val_loss: 0.0850\n",
            "Epoch 179/200\n",
            "\u001b[1m375/375\u001b[0m \u001b[32m━━━━━━━━━━━━━━━━━━━━\u001b[0m\u001b[37m\u001b[0m \u001b[1m2s\u001b[0m 5ms/step - accuracy: 0.9742 - loss: 0.0829 - val_accuracy: 0.9758 - val_loss: 0.0848\n",
            "Epoch 180/200\n",
            "\u001b[1m375/375\u001b[0m \u001b[32m━━━━━━━━━━━━━━━━━━━━\u001b[0m\u001b[37m\u001b[0m \u001b[1m4s\u001b[0m 9ms/step - accuracy: 0.9727 - loss: 0.0864 - val_accuracy: 0.9758 - val_loss: 0.0846\n",
            "Epoch 181/200\n",
            "\u001b[1m375/375\u001b[0m \u001b[32m━━━━━━━━━━━━━━━━━━━━\u001b[0m\u001b[37m\u001b[0m \u001b[1m2s\u001b[0m 5ms/step - accuracy: 0.9752 - loss: 0.0805 - val_accuracy: 0.9757 - val_loss: 0.0841\n",
            "Epoch 182/200\n",
            "\u001b[1m375/375\u001b[0m \u001b[32m━━━━━━━━━━━━━━━━━━━━\u001b[0m\u001b[37m\u001b[0m \u001b[1m2s\u001b[0m 5ms/step - accuracy: 0.9754 - loss: 0.0819 - val_accuracy: 0.9756 - val_loss: 0.0840\n",
            "Epoch 183/200\n",
            "\u001b[1m375/375\u001b[0m \u001b[32m━━━━━━━━━━━━━━━━━━━━\u001b[0m\u001b[37m\u001b[0m \u001b[1m3s\u001b[0m 5ms/step - accuracy: 0.9760 - loss: 0.0818 - val_accuracy: 0.9753 - val_loss: 0.0849\n",
            "Epoch 184/200\n",
            "\u001b[1m375/375\u001b[0m \u001b[32m━━━━━━━━━━━━━━━━━━━━\u001b[0m\u001b[37m\u001b[0m \u001b[1m2s\u001b[0m 5ms/step - accuracy: 0.9742 - loss: 0.0818 - val_accuracy: 0.9750 - val_loss: 0.0841\n",
            "Epoch 185/200\n",
            "\u001b[1m375/375\u001b[0m \u001b[32m━━━━━━━━━━━━━━━━━━━━\u001b[0m\u001b[37m\u001b[0m \u001b[1m3s\u001b[0m 7ms/step - accuracy: 0.9753 - loss: 0.0792 - val_accuracy: 0.9757 - val_loss: 0.0834\n",
            "Epoch 186/200\n",
            "\u001b[1m375/375\u001b[0m \u001b[32m━━━━━━━━━━━━━━━━━━━━\u001b[0m\u001b[37m\u001b[0m \u001b[1m3s\u001b[0m 7ms/step - accuracy: 0.9744 - loss: 0.0816 - val_accuracy: 0.9758 - val_loss: 0.0837\n",
            "Epoch 187/200\n",
            "\u001b[1m375/375\u001b[0m \u001b[32m━━━━━━━━━━━━━━━━━━━━\u001b[0m\u001b[37m\u001b[0m \u001b[1m4s\u001b[0m 5ms/step - accuracy: 0.9746 - loss: 0.0774 - val_accuracy: 0.9757 - val_loss: 0.0838\n",
            "Epoch 188/200\n",
            "\u001b[1m375/375\u001b[0m \u001b[32m━━━━━━━━━━━━━━━━━━━━\u001b[0m\u001b[37m\u001b[0m \u001b[1m3s\u001b[0m 5ms/step - accuracy: 0.9746 - loss: 0.0796 - val_accuracy: 0.9753 - val_loss: 0.0840\n",
            "Epoch 189/200\n",
            "\u001b[1m375/375\u001b[0m \u001b[32m━━━━━━━━━━━━━━━━━━━━\u001b[0m\u001b[37m\u001b[0m \u001b[1m3s\u001b[0m 7ms/step - accuracy: 0.9750 - loss: 0.0810 - val_accuracy: 0.9757 - val_loss: 0.0836\n",
            "Epoch 190/200\n",
            "\u001b[1m375/375\u001b[0m \u001b[32m━━━━━━━━━━━━━━━━━━━━\u001b[0m\u001b[37m\u001b[0m \u001b[1m4s\u001b[0m 5ms/step - accuracy: 0.9757 - loss: 0.0797 - val_accuracy: 0.9757 - val_loss: 0.0838\n",
            "Epoch 191/200\n",
            "\u001b[1m375/375\u001b[0m \u001b[32m━━━━━━━━━━━━━━━━━━━━\u001b[0m\u001b[37m\u001b[0m \u001b[1m3s\u001b[0m 5ms/step - accuracy: 0.9746 - loss: 0.0808 - val_accuracy: 0.9755 - val_loss: 0.0839\n",
            "Epoch 192/200\n",
            "\u001b[1m375/375\u001b[0m \u001b[32m━━━━━━━━━━━━━━━━━━━━\u001b[0m\u001b[37m\u001b[0m \u001b[1m3s\u001b[0m 5ms/step - accuracy: 0.9761 - loss: 0.0778 - val_accuracy: 0.9749 - val_loss: 0.0839\n",
            "Epoch 193/200\n",
            "\u001b[1m375/375\u001b[0m \u001b[32m━━━━━━━━━━━━━━━━━━━━\u001b[0m\u001b[37m\u001b[0m \u001b[1m2s\u001b[0m 6ms/step - accuracy: 0.9750 - loss: 0.0800 - val_accuracy: 0.9754 - val_loss: 0.0836\n",
            "Epoch 194/200\n",
            "\u001b[1m375/375\u001b[0m \u001b[32m━━━━━━━━━━━━━━━━━━━━\u001b[0m\u001b[37m\u001b[0m \u001b[1m3s\u001b[0m 8ms/step - accuracy: 0.9761 - loss: 0.0753 - val_accuracy: 0.9753 - val_loss: 0.0833\n",
            "Epoch 195/200\n",
            "\u001b[1m375/375\u001b[0m \u001b[32m━━━━━━━━━━━━━━━━━━━━\u001b[0m\u001b[37m\u001b[0m \u001b[1m4s\u001b[0m 5ms/step - accuracy: 0.9753 - loss: 0.0800 - val_accuracy: 0.9760 - val_loss: 0.0834\n",
            "Epoch 196/200\n",
            "\u001b[1m375/375\u001b[0m \u001b[32m━━━━━━━━━━━━━━━━━━━━\u001b[0m\u001b[37m\u001b[0m \u001b[1m2s\u001b[0m 5ms/step - accuracy: 0.9750 - loss: 0.0782 - val_accuracy: 0.9757 - val_loss: 0.0834\n",
            "Epoch 197/200\n",
            "\u001b[1m375/375\u001b[0m \u001b[32m━━━━━━━━━━━━━━━━━━━━\u001b[0m\u001b[37m\u001b[0m \u001b[1m2s\u001b[0m 5ms/step - accuracy: 0.9744 - loss: 0.0808 - val_accuracy: 0.9760 - val_loss: 0.0834\n",
            "Epoch 198/200\n",
            "\u001b[1m375/375\u001b[0m \u001b[32m━━━━━━━━━━━━━━━━━━━━\u001b[0m\u001b[37m\u001b[0m \u001b[1m3s\u001b[0m 7ms/step - accuracy: 0.9772 - loss: 0.0761 - val_accuracy: 0.9759 - val_loss: 0.0831\n",
            "Epoch 199/200\n",
            "\u001b[1m375/375\u001b[0m \u001b[32m━━━━━━━━━━━━━━━━━━━━\u001b[0m\u001b[37m\u001b[0m \u001b[1m3s\u001b[0m 7ms/step - accuracy: 0.9757 - loss: 0.0787 - val_accuracy: 0.9762 - val_loss: 0.0831\n",
            "Epoch 200/200\n",
            "\u001b[1m375/375\u001b[0m \u001b[32m━━━━━━━━━━━━━━━━━━━━\u001b[0m\u001b[37m\u001b[0m \u001b[1m4s\u001b[0m 5ms/step - accuracy: 0.9752 - loss: 0.0767 - val_accuracy: 0.9758 - val_loss: 0.0831\n"
          ]
        },
        {
          "output_type": "execute_result",
          "data": {
            "text/plain": [
              "<keras.src.callbacks.history.History at 0x78719758d570>"
            ]
          },
          "metadata": {},
          "execution_count": 10
        }
      ],
      "source": [
        "# Training the model.\n",
        "model.fit(X_train, Y_train,\n",
        " batch_size=BATCH_SIZE, epochs=EPOCHS,\n",
        " verbose=VERBOSE, validation_split=VALIDATION_SPLIT)"
      ]
    },
    {
      "cell_type": "markdown",
      "id": "bd33d5a2-a1a5-4806-8cc8-ea6a5351b677",
      "metadata": {
        "id": "bd33d5a2-a1a5-4806-8cc8-ea6a5351b677"
      },
      "source": [
        ">### Note that improvement stops (or they become almost imperceptible) after a certain number of epochs. In machine learning, this is a phenomenon called `convergence`.\n",
        ">### note that training accuracy should still be above test accuracy, otherwise, we might be not training for long enough."
      ]
    },
    {
      "cell_type": "code",
      "execution_count": 11,
      "id": "3fe1a1df-fc1d-4958-8ba8-b7bc89343775",
      "metadata": {
        "colab": {
          "base_uri": "https://localhost:8080/"
        },
        "id": "3fe1a1df-fc1d-4958-8ba8-b7bc89343775",
        "outputId": "b8d99c71-1fa0-4fb1-e0d3-ab328174fc01"
      },
      "outputs": [
        {
          "output_type": "stream",
          "name": "stdout",
          "text": [
            "\u001b[1m313/313\u001b[0m \u001b[32m━━━━━━━━━━━━━━━━━━━━\u001b[0m\u001b[37m\u001b[0m \u001b[1m1s\u001b[0m 2ms/step - accuracy: 0.9720 - loss: 0.0919\n",
            "Test accuracy: 0.9772999882698059\n"
          ]
        }
      ],
      "source": [
        "#evaluate the model\n",
        "test_loss, test_acc = model.evaluate(X_test, Y_test)\n",
        "print('Test accuracy:', test_acc)"
      ]
    },
    {
      "cell_type": "code",
      "source": [
        "X_test[0].shape"
      ],
      "metadata": {
        "colab": {
          "base_uri": "https://localhost:8080/"
        },
        "id": "7x0Asxo4Ekbc",
        "outputId": "f6a2c99a-6af7-4291-f033-1ce8c31ad6c0"
      },
      "id": "7x0Asxo4Ekbc",
      "execution_count": 13,
      "outputs": [
        {
          "output_type": "execute_result",
          "data": {
            "text/plain": [
              "(784,)"
            ]
          },
          "metadata": {},
          "execution_count": 13
        }
      ]
    },
    {
      "cell_type": "code",
      "source": [
        "model.predict(X_test[0].reshape(1, -1)).argmax()"
      ],
      "metadata": {
        "colab": {
          "base_uri": "https://localhost:8080/"
        },
        "id": "Co-7uasWE7da",
        "outputId": "49f74580-a0f4-4014-a8f3-28e79aa3409f"
      },
      "id": "Co-7uasWE7da",
      "execution_count": 16,
      "outputs": [
        {
          "output_type": "stream",
          "name": "stdout",
          "text": [
            "\u001b[1m1/1\u001b[0m \u001b[32m━━━━━━━━━━━━━━━━━━━━\u001b[0m\u001b[37m\u001b[0m \u001b[1m0s\u001b[0m 23ms/step\n"
          ]
        },
        {
          "output_type": "execute_result",
          "data": {
            "text/plain": [
              "7"
            ]
          },
          "metadata": {},
          "execution_count": 16
        }
      ]
    },
    {
      "cell_type": "code",
      "source": [
        "import matplotlib.pyplot as plt\n",
        "plt.imshow(X_test[0].reshape(28, 28))"
      ],
      "metadata": {
        "colab": {
          "base_uri": "https://localhost:8080/",
          "height": 467
        },
        "id": "6vq37yyMF92C",
        "outputId": "8bdc9b0f-7603-4c13-fb26-ee1b2fa6ddf5"
      },
      "id": "6vq37yyMF92C",
      "execution_count": 18,
      "outputs": [
        {
          "output_type": "execute_result",
          "data": {
            "text/plain": [
              "<matplotlib.image.AxesImage at 0x78717b0d1f30>"
            ]
          },
          "metadata": {},
          "execution_count": 18
        },
        {
          "output_type": "display_data",
          "data": {
            "text/plain": [
              "<Figure size 640x480 with 1 Axes>"
            ],
            "image/png": "[encoded data removed]"
          },
          "metadata": {}
        }
      ]
    }
  ],
  "metadata": {
    "kernelspec": {
      "display_name": "Python (GPU_Kaveh)",
      "language": "python",
      "name": "gpu_kaveh"
    },
    "language_info": {
      "codemirror_mode": {
        "name": "ipython",
        "version": 3
      },
      "file_extension": ".py",
      "mimetype": "text/x-python",
      "name": "python",
      "nbconvert_exporter": "python",
      "pygments_lexer": "ipython3",
      "version": "3.12.4"
    },
    "colab": {
      "provenance": [],
      "include_colab_link": true
    }
  },
  "nbformat": 4,
  "nbformat_minor": 5
}